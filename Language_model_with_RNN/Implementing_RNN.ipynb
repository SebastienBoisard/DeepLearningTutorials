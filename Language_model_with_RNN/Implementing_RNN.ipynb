{
 "cells": [
  {
   "cell_type": "markdown",
   "metadata": {},
   "source": [
    "## Implementing a RNN\n",
    "\n",
    "Source: http://www.wildml.com/2015/09/recurrent-neural-networks-tutorial-part-2-implementing-a-language-model-rnn-with-python-numpy-and-theano/"
   ]
  },
  {
   "cell_type": "code",
   "execution_count": 9,
   "metadata": {
    "collapsed": false
   },
   "outputs": [],
   "source": [
    "import csv\n",
    "import itertools\n",
    "import operator\n",
    "import numpy as np\n",
    "import nltk\n",
    "import sys\n",
    "from datetime import datetime\n",
    "from utils import *\n",
    "import os\n",
    "import gzip\n",
    "from six.moves.urllib.request import urlretrieve\n",
    "\n",
    "import matplotlib.pyplot as plt\n",
    "%matplotlib inline"
   ]
  },
  {
   "cell_type": "markdown",
   "metadata": {},
   "source": [
    "Export reddit comments from a [dataset available on Google's BigQuery](https://bigquery.cloud.google.com/table/fh-bigquery:reddit_comments.2015_08)."
   ]
  },
  {
   "cell_type": "code",
   "execution_count": 10,
   "metadata": {
    "collapsed": false
   },
   "outputs": [],
   "source": [
    "def download_file(url, filename, expected_size_in_bytes, force=False):\n",
    "  \"\"\"Download a file if not present, and make sure it's the right size.\"\"\"\n",
    "  if not os.path.exists(filename) or force == True:\n",
    "    filename, _ = urlretrieve(url + filename, filename)\n",
    "  statinfo = os.stat(filename)\n",
    "  if statinfo.st_size == expected_size_in_bytes:\n",
    "    print('Found and verified', filename)\n",
    "  else:\n",
    "    raise Exception('Failed to verify {0}. Expected {1}B but found {2}B!'.format(filename, expected_size_in_bytes, statinfo.st_size))\n",
    "  return filename"
   ]
  },
  {
   "cell_type": "code",
   "execution_count": 11,
   "metadata": {
    "collapsed": false
   },
   "outputs": [
    {
     "name": "stdout",
     "output_type": "stream",
     "text": [
      "Found and verified reddit-comments-2015-08.data.gz\n"
     ]
    }
   ],
   "source": [
    "dataset_compressed_filename = download_file('https://github.com/SebastienBoisard/DeepLearningTutorials/'+\n",
    "                                            'raw/master/Language_model_with_RNN/data/',\n",
    "                                            'reddit-comments-2015-08.data.gz', \n",
    "                                             3152770)"
   ]
  },
  {
   "cell_type": "code",
   "execution_count": 12,
   "metadata": {
    "collapsed": false
   },
   "outputs": [],
   "source": [
    "def decompress_file(compressed_filename):\n",
    "    # Split the gziped file name into a name and the extension\n",
    "    file_name, file_extension = os.path.splitext(compressed_filename)\n",
    "    \n",
    "    if file_extension != '.gz':\n",
    "        raise Exception('Can\\'t decompress file \\'', compressed_filename, '\\' because this is not a .gz file!')\n",
    "       \n",
    "    with gzip.open(compressed_filename, 'rb') as f:\n",
    "        file_content = f.read()    \n",
    "       \n",
    "        with open(file_name, 'wb') as outfile:\n",
    "            outfile.write(file_content)\n",
    "    \n",
    "    return file_name"
   ]
  },
  {
   "cell_type": "code",
   "execution_count": 13,
   "metadata": {
    "collapsed": false
   },
   "outputs": [],
   "source": [
    "dataset_filename = decompress_file(dataset_compressed_filename)"
   ]
  },
  {
   "cell_type": "code",
   "execution_count": 14,
   "metadata": {
    "collapsed": false
   },
   "outputs": [
    {
     "name": "stdout",
     "output_type": "stream",
     "text": [
      "Reading CSV data file: exemple.data\n",
      "Parsed 192 sentences.\n",
      "sentences= [\"SENTENCE_START i joined a new league this year and they have different scoring rules than i'm used to. SENTENCE_END\", \"SENTENCE_START it's a slight ppr league- .2 ppr. SENTENCE_END\", 'SENTENCE_START standard besides 1 points for 15 yards receiving, .2 points per completion, 6 points per td thrown, and some bonuses for rec/rush/pass yardage. SENTENCE_END', 'SENTENCE_START my question is, is it wildly clear that qb has the highest potential for points? SENTENCE_END', 'SENTENCE_START i put in the rules at a ranking site and noticed that top qbs had 300 points more than the top rb/wr. SENTENCE_END', 'SENTENCE_START would it be dumb not to grab a qb in the first round? SENTENCE_END', 'SENTENCE_START in your scenario, a person could just not run the mandatory background check on the buyer and still sell the gun to the felon. SENTENCE_END', \"SENTENCE_START there's no way to enforce it. SENTENCE_END\", \"SENTENCE_START an honest seller is going to not sell the gun to them when they see they're a felon on the background check. SENTENCE_END\", \"SENTENCE_START a dishonest seller isn't going to run the check in the first place. SENTENCE_END\", 'SENTENCE_START no one is going to be honest enough to run the check, see they\\'re a felon, and then all of a sudden immediately turn dishonest and say \"nah, you know what, here\\'s your gun anyway.\" SENTENCE_END', \"SENTENCE_START they wouldn't run the fucking check in the first place, genius. SENTENCE_END\", 'SENTENCE_START your bullshit proposal is **not enforceable**. SENTENCE_END', \"SENTENCE_START this is why people without \\n\\n&gt;here's an idea, why not make a background check system where it would be illegal to sell guns to felons? SENTENCE_END\", \"SENTENCE_START that doesn't convince you? SENTENCE_END\", 'SENTENCE_START idgaf. SENTENCE_END', 'SENTENCE_START we already fucking have that. SENTENCE_END', \"SENTENCE_START what aren't you understanding about this?! SENTENCE_END\", \"SENTENCE_START it's just currently not available to private sellers. SENTENCE_END\", \"SENTENCE_START i'd like to make it available, but there's no point in making it mandatory. SENTENCE_END\", \"SENTENCE_START &gt;you're just supporting it to make a gesture towards background check reform in bad faith. SENTENCE_END\", \"SENTENCE_START as a gun owner who has harmed no one and has constitutionally protected rights, i actually don't own the anti-gun side a damn thing. SENTENCE_END\", \"SENTENCE_START it's people like you that convince me to not give an inch at all. SENTENCE_END\", \"SENTENCE_START i'm wiling to extend nics to private sellers as voluntary. SENTENCE_END\", \"SENTENCE_START take it or leave it, because it isn't going to be made mandatory. SENTENCE_END\", 'SENTENCE_START not gonna happen. SENTENCE_END', 'SENTENCE_START period. SENTENCE_END', \"SENTENCE_START they don't get paid for how much time you spend building your army. SENTENCE_END\", 'SENTENCE_START they get paid when you gem it. SENTENCE_END', 'SENTENCE_START having a premade layout saves what, 30 seconds? SENTENCE_END', \"SENTENCE_START during that time they've made $0 and still have the ability to make $x if you decide to gem it.  SENTENCE_END\", 'SENTENCE_START i dunno, back before the august update in an a+ lobby for tower control in saltspray rig, i remember the enemy team barraging us with bombs in a suspiciously coordinated fashion. SENTENCE_END', 'SENTENCE_START and my teammates were also tossing bombs left and right. SENTENCE_END', 'SENTENCE_START non-stop splat/suction/burst bombs. SENTENCE_END', 'SENTENCE_START bombs, bombs fucking everywhere. SENTENCE_END', 'SENTENCE_START it was terrifying having to dodge one after the other. SENTENCE_END', 'SENTENCE_START it never ended, and some of them even had bomb rush to toss even more goddamn bombs. SENTENCE_END', 'SENTENCE_START i think i still have ptsd of that horrifying event. SENTENCE_END', 'SENTENCE_START that match really felt like a michael bay movie. SENTENCE_END', 'SENTENCE_START no, but toriyama sometimes would draw himself as a little robot. SENTENCE_END', 'SENTENCE_START shen was a funny character for a few episodes(hitting yamcha in the junk) before you find out his true identity. SENTENCE_END', 'SENTENCE_START then he has an awesome fight with piccolo. SENTENCE_END', 'SENTENCE_START implement some form of tenure for mods and require a majority vote to remove any tenured mod. SENTENCE_END', 'SENTENCE_START only allow mods to trigger a removal vote on mods lower than them in the hierarchy however. SENTENCE_END', \"SENTENCE_START this removes the possibility of a single mod (such as an absentee top mod) swooping in and blowing up the sub but doesn't create opportunities for hijacking. SENTENCE_END\", \"SENTENCE_START importantly, it also doesn't require rejiggering the existing mod hierarchies or ongoing admin involvement in dispute resolution. SENTENCE_END\", 'SENTENCE_START i hate reading shit like this because you sound like such a catch before or after you started working out, and your husband takes you for granted. SENTENCE_END', 'SENTENCE_START what i would do to be with someone like you. SENTENCE_END', \"SENTENCE_START i'm not going to tell you to stay or go but whichever you decide, just don't lose sight of how you deserve to be treated and don't put up with anything less. SENTENCE_END\", \"SENTENCE_START &gt;baltimore county prosecutors will speak to the victim's family before deciding whether to charge shattuck, reports the station. SENTENCE_END\", 'SENTENCE_START earlier the parents said: \\n\\n&gt;\"what she did to my son is heinous. SENTENCE_END', 'SENTENCE_START the fact that she paraded her pedophilia in front of her own son is even more disturbing,\" the mother said. SENTENCE_END', 'SENTENCE_START \"any adult who rapes a child deserves to be in prison. SENTENCE_END', 'SENTENCE_START please hold her accountable.\" SENTENCE_END', 'SENTENCE_START it seems like they probably will ask that they send her to prison. SENTENCE_END', 'SENTENCE_START i hope they do. SENTENCE_END', \"SENTENCE_START honestly that judge basically gave the green light to any adult woman to molest little boys free of consequence in the future and that's simply not acceptable. \\n SENTENCE_END\", 'SENTENCE_START i think you might be missing my point. SENTENCE_END', 'SENTENCE_START a gun is a tool which allows you to kill very efficiently. SENTENCE_END', \"SENTENCE_START not having those around means there's less chance for people to make dumb decisions which end up in deaths. SENTENCE_END\", \"SENTENCE_START i'm not concerned with spree killers or other people who plan to kill, i'm concerned with people who wouldn't otherwise put other's lives at risk when they get angry, but there's a gun at hand. SENTENCE_END\", 'SENTENCE_START the latter is vastly more common than the former. SENTENCE_END', 'SENTENCE_START thank you for the giveaway op! SENTENCE_END', 'SENTENCE_START i would like to enter for the elder scrolls v: skyrim. SENTENCE_END', \"SENTENCE_START i played it at my friends house but haven't been able to get it yet! SENTENCE_END\", 'SENTENCE_START i thank you again for this giveaway. SENTENCE_END', 'SENTENCE_START good luck everyone! SENTENCE_END', \"SENTENCE_START im dutch and have watched all netherlands games for the last few years, nigel de jong has been solid during the wc and before and i see no reason at all not to include him since we don't have any non attacking midfielders in our team other then anita (which i don't really rate) and blind (who we'll probably need as lb). SENTENCE_END\", \"SENTENCE_START tete hasn't even been that good in the eredivisie imo, so why put him ahead of a expierenced player in the dutch squad like janmaat is beyond me. SENTENCE_END\", \"SENTENCE_START we don't have a real lb in the squad, only blind and kongolo (who didn't play well in a weak eredivisie last season) so that's why i would include pieters. SENTENCE_END\", \"SENTENCE_START i'm not making assumptions here. SENTENCE_END\", \"SENTENCE_START i agree that our defense hasn't been that good, that's why i don't get why we don't use nigel de jong, that's why i wouldn't use young unexpierenced players like riedewald and tete. SENTENCE_END\", \"SENTENCE_START these matches are super important, we won't qualify if we don't win them, so if you want to experiment with other players i would always use more expierenced players and not players who played with each other before instead of new ones like tete, riedewald and anita.  SENTENCE_END\", \"SENTENCE_START don't\\n\\n\\njust take them before/after. SENTENCE_END\", 'SENTENCE_START i take prepare before going out and recovere on the come down and my rolls have always been pleasant and my comedowns minimal. SENTENCE_END', \"SENTENCE_START both can be found on [ravesafer.com](http://www.ravesafer.com)\\n\\n\\nif you really must take some in with you, the prepare pack only has 3 pills in it (all of the supplements are combined into these 3 pills), so it's far easier to get them into places than having all the supplements separately.\\n SENTENCE_END\", 'SENTENCE_START &gt; key word there is \"were\". SENTENCE_END', 'SENTENCE_START as i nodded to when i said \"yeah, back in 1960\". SENTENCE_END', 'SENTENCE_START which is what i referred to. SENTENCE_END', 'SENTENCE_START i pointed out the *history* of the use of nullification logic. SENTENCE_END', 'SENTENCE_START &gt;guess what? SENTENCE_END', \"SENTENCE_START this isn't 1960. it's 2015, \\n\\nand so what? SENTENCE_END\", \"SENTENCE_START so people don't have bad idea? SENTENCE_END\", \"SENTENCE_START a bigot won't use the same logic to refuse to convict? SENTENCE_END\", 'SENTENCE_START if it is ok to say \"i won\\'t convict on a drug charge\" it is ok to say \"i won\\'t convict on a rape charge\". SENTENCE_END', \"SENTENCE_START &gt;you're playing on a stereotype from nearly 60 years ago as if it were a true today. SENTENCE_END\", 'SENTENCE_START and you have completely misunderstood what i wrote and my point. SENTENCE_END', \"SENTENCE_START &gt; i'd really like to see if anyone has ever used it. SENTENCE_END\", \"SENTENCE_START [here's](http://thefreethoughtproject.com/indiana-law-force-cops-overturned-mans-battery-officer-charge/) a case where a man slamming his house's door against an officer's foot was deemed legal because the officer didn't have probable cause to investigate his house. SENTENCE_END\", 'SENTENCE_START &gt; but the appeals court reasoned that, “constable webb had entered cupello’s apartment without consent, probable cause, reasonable suspicion, or exigent circumstances. SENTENCE_END', 'SENTENCE_START because constable webb resisted cupello’s subsequent attempts to close the door, cupello had a reasonable belief that force was necessary to terminate constable webb’s unlawful entry into his apartment.” SENTENCE_END', \"SENTENCE_START shane o'mac vs brock lesnar \\n\\nno dq\\n\\nobviously shane would have to be younger and this would be first run  brock when he wasn't being pushed as basically unstoppable\\n\\nbut i don't think anyone dishes out punishment better than brock\\n\\nand i don't think  anyone makes getting the crap kicked out of them look as good as shane o  SENTENCE_END\", \"SENTENCE_START i don't see anything like that on the wiring diagram. SENTENCE_END\", \"SENTENCE_START doesn't mean its not there but i never heard of it. SENTENCE_END\", 'SENTENCE_START the first gen bikes have and accessory wire in the fairing that can be used for low draw devices like a cell phone or gps. SENTENCE_END', \"SENTENCE_START installing a 12v outlet isn't very difficult. SENTENCE_END\", 'SENTENCE_START are you used to working on bikes or with electric wires at all?  SENTENCE_END', 'SENTENCE_START i think *m* is one of the most interesting early sound films. SENTENCE_END', 'SENTENCE_START fritz lang really made incredible use of sound, especially for a director who had predominantly done silent films at the time. SENTENCE_END', 'SENTENCE_START much of the film is completely silent which adds to the suspense for me and the anxiety that the film creates. SENTENCE_END', \"SENTENCE_START there's never really a wasted sound clip, every line of dialogue is extremely important. SENTENCE_END\", \"SENTENCE_START even peter lorre's whistling is integral to the plot. SENTENCE_END\", 'SENTENCE_START this is zen as it is found outside of /r/zen. SENTENCE_END', 'SENTENCE_START zen flesh, zen bones. SENTENCE_END', \"SENTENCE_START this place doesn't fill bellies the same way. SENTENCE_END\", 'SENTENCE_START and since you never stop by to have lunch your criticisms are again unfounded and somewhat laughable. SENTENCE_END', \"SENTENCE_START why don't you stop by for tea? SENTENCE_END\", \"SENTENCE_START ask questions to your heart's content. SENTENCE_END\", 'SENTENCE_START finally learn to cook! SENTENCE_END', 'SENTENCE_START my teacher is very fine. SENTENCE_END', \"SENTENCE_START the game is very good, but the style of it doesn't lead to paying attention to the storyline or the environment. SENTENCE_END\", \"SENTENCE_START which is a fault of the game as it doesn't reward you in game with anything for exploring, except small acknowledgements.  SENTENCE_END\", \"SENTENCE_START so would it technically be possible to write down all our physics equations on scratch paper during the tutorial and then use that same scratch paper (with the equations) during the chem/physics section since it's the first section? SENTENCE_END\", 'SENTENCE_START bc that would be super great... SENTENCE_END', 'SENTENCE_START i recommend [intimacy and desire](http://amzn.com/0825306299) by david schnarch. SENTENCE_END', 'SENTENCE_START an excellent read, and a very thorough discussion of the problem of unequal desire in long term relationships. SENTENCE_END', 'SENTENCE_START [mating in captivity](http://amzn.com/0060753641) is also very good, but focuses more on lack of desire rather than unequal desire. SENTENCE_END', 'SENTENCE_START no. SENTENCE_END', 'SENTENCE_START pl has more teams in europe than italy = pl teams can make more points than serie a teams. SENTENCE_END', 'SENTENCE_START pl will only lose its 4th cl spot if all english teams lose and all italian teams reach semifinals/finals. SENTENCE_END', 'SENTENCE_START so: no. SENTENCE_END', 'SENTENCE_START start reading about cubes. SENTENCE_END', \"SENTENCE_START do that for a few months, then you'll have a better idea. SENTENCE_END\", \"SENTENCE_START people don't just build them without knowing anything. SENTENCE_END\", 'SENTENCE_START we get into it after months of reading about cube building theory, reading lists, etc. SENTENCE_END', 'SENTENCE_START start along that road.  SENTENCE_END', 'SENTENCE_START yeah, no. SENTENCE_END', \"SENTENCE_START that's not the way politics work. SENTENCE_END\", \"SENTENCE_START you don't elect someone who has no plan and then pray that he'll figure out a way to get it done once he's in office. SENTENCE_END\", \"SENTENCE_START you're basically electing someone on a promise they may or may not keep, which i thought was what sanders' campaign was against. SENTENCE_END\", 'SENTENCE_START at least candidates like clinton or bush have the political muscle to get what they say done.  SENTENCE_END', 'SENTENCE_START i think this is something that escapes a lot of people. SENTENCE_END', \"SENTENCE_START it's not about who was in the right or who was in the wrong, it comes down to everyone staying safe and going home in one piece at the end of the day. SENTENCE_END\", \"SENTENCE_START i wouldn't say pointless. SENTENCE_END\", 'SENTENCE_START it can help with all other victory types. SENTENCE_END', 'SENTENCE_START source: http://civilization.wikia.com/wiki/tourism_(civ5)\\n\\nscience from trade routes: cultural influence with a certain nation increases science output from trade routes established with them. SENTENCE_END', \"SENTENCE_START so, boost your research by opening trade routes with nations you're influencing culturally! SENTENCE_END\", 'SENTENCE_START espionage: your spies become more effective in nations influenced by you culturally. SENTENCE_END', 'SENTENCE_START they will take only one turn to establish surveillance in their cities. SENTENCE_END', 'SENTENCE_START higher influence status also makes them operate as if they had already been promoted. SENTENCE_END', 'SENTENCE_START conquest: when you capture a city belonging to an enemy influenced by you, resistance in that city will last in fewer turns. SENTENCE_END', 'SENTENCE_START also, the city will lose fewer citizens upon capturing. SENTENCE_END', 'SENTENCE_START love that song. SENTENCE_END', \"SENTENCE_START maybe it's just me being weird (spoiler alert: it is), but i always imagine the narrator in that song singing it to himself. SENTENCE_END\", 'SENTENCE_START or even, it\\'s a buddhist-type thing and the it\\'s the concept of \"you\" itself that\\'s bad and needs to die. SENTENCE_END', 'SENTENCE_START i like to think too much :) SENTENCE_END', 'SENTENCE_START for some people, it *is* a constant lifestyle. SENTENCE_END', 'SENTENCE_START some people have kinks that are informed by their interests in the fandom. SENTENCE_END', 'SENTENCE_START (\"perversion\" is a strong word that i don\\'t think applies to most of them, which may be odd, but are harmless.) SENTENCE_END', 'SENTENCE_START for most though, furry is largely about the appreciation of the anthropomorphic aesthetic. SENTENCE_END', \"SENTENCE_START here's a couple links. SENTENCE_END\", 'SENTENCE_START https://www.flayrah.com/4117/retrospective-illustrated-chronology-furry-fandom-1966-1996\\n\\n\\nhttp://www.hoodedutilitarian.com/2015/01/you-cant-get-inside/ SENTENCE_END', \"SENTENCE_START he's actually very fun to play as if you understand the game. SENTENCE_END\", \"SENTENCE_START he also has counterplay, but people like yourself are too ignorant to figure that out and instead just say he's badly designed just because you dont put any thought into it. SENTENCE_END\", \"SENTENCE_START truth is yorick is well balanced, he's just old and unpopular. SENTENCE_END\", \"SENTENCE_START thats why he's last on the rework table; because he isnt detrimental to the game and not enough people play this champ. SENTENCE_END\", \"SENTENCE_START the thing is that third-tier classes weren't really any different than the second-tier versions they replaced. SENTENCE_END\", 'SENTENCE_START they just hamstrung the second-tier versions a bit and boosted the stat caps, reserving things like signature skills or a second weapon type for third-tier instead. SENTENCE_END', 'SENTENCE_START the centra players agreed to this last season, and had no problems with it when it was played through. SENTENCE_END', 'SENTENCE_START it basically becomes midwest vs. northeast/europe for radius. SENTENCE_END', 'SENTENCE_START sphere is west vs southeast. SENTENCE_END', 'SENTENCE_START and origin is whoever can play on it best. SENTENCE_END', 'SENTENCE_START it works out. SENTENCE_END', 'SENTENCE_START and your usc team has beaten my usc team on radius in the past, so i think yac and bigbird will be fine, lol.  SENTENCE_END', \"SENTENCE_START yea, but if it does ridiculous amount of damage guaranteed, which it will, then, if you haven't won the game with that drop you will win with speedlings. SENTENCE_END\", \"SENTENCE_START it worked too reliably, there wasn't enough incentive to not do it. SENTENCE_END\", 'SENTENCE_START whenever i see what would normally be a good deal advertised to me, i just dismiss it as a scam. SENTENCE_END', 'SENTENCE_START in my mind at least, every single ad i see is a scam. SENTENCE_END', \"SENTENCE_START now, if i'm looking on google and i come across a website on my own with that same good deal, i'll be all over it. SENTENCE_END\", 'SENTENCE_START but if i come across it as an ad, nope. SENTENCE_END', \"SENTENCE_START i was in the same boat, i'm going into first year uni now and felt left out when most of my friends had their license. SENTENCE_END\", \"SENTENCE_START i remember i was scared as hell as the test date was approaching because i didn't want to fail and most of my friends got their license first trial too. SENTENCE_END\", 'SENTENCE_START what helped me was a lot of practice, i used to get my dad to take me driving for hours multiple times a week and get really comfortable driving. SENTENCE_END', 'SENTENCE_START so when i did my test, all my anxiety and nervousness was gone because i was so comfortable with driving at this point. SENTENCE_END', 'SENTENCE_START good  luck! SENTENCE_END', 'SENTENCE_START the 8 damage is great to help close out games or even to help remove the board. SENTENCE_END', 'SENTENCE_START tech cards just add unneeded variation, even though rag is an rng based card, its value is always consistent in any match up. SENTENCE_END', 'SENTENCE_START not often, i mostly go by what their fans say about him and reading stuff like this http://www.espnfc.co.uk/club/internazionale/110/blog/post/2476665/mauro-icardi-of-inter-milan-deserving-of-scoring-honour SENTENCE_END', 'SENTENCE_START verratti is a great enforcer. SENTENCE_END', \"SENTENCE_START vidal is enough of a player to dominate a midfield the way iniesta can't. SENTENCE_END\", \"SENTENCE_START what i am saying is that each and every team bar pep's barça had to rely on a strong physical midfielder to win. SENTENCE_END\", 'SENTENCE_START busquets, marchisio, pogba, rakitic are strong, they are not small, elegant technical players. SENTENCE_END', \"SENTENCE_START the big discussion was about arsenal - and arsenal don't have that physically imposing midfielder other teams do SENTENCE_END\", 'SENTENCE_START it\\'s why these \"roles\" that smite have are really fucking annoying when more unique gods enter the game. SENTENCE_END', 'SENTENCE_START dota technically has roles but everyone ignores them and plays each specific hero to the best of their ability, buying the items that work best for that hero and putting them in the lane that benefits them and their team the most. SENTENCE_END', 'SENTENCE_START smite  gods are lumped in the different pools where roughly the same items are bought, with roughly the same playstyle and are put in roughly the same lanes, with few exceptions. SENTENCE_END', 'SENTENCE_START unfortunately, your post has been removed due to having a very short title. SENTENCE_END', 'SENTENCE_START titles do not need to be overly long, only about an **average sentence in length** (7 words) but substantial enough that someone else can understand without having to see the full post. SENTENCE_END', 'SENTENCE_START a specific question will attract more attention than a general one. SENTENCE_END', 'SENTENCE_START rule of thumb: **if your question can fit in the title (&lt;300 characters), then it should be in the title. SENTENCE_END', 'SENTENCE_START ** [you can find examples of other titles not to use **here**. SENTENCE_END', 'SENTENCE_START ](http://www.reddit.com/r/ps4/wiki/subreddit/rules/examples#wiki_vague_titles)\\n\\n\\n SENTENCE_END']\n"
     ]
    }
   ],
   "source": [
    "vocabulary_size = 8000\n",
    "unknown_token = \"UNKNOWN_TOKEN\"\n",
    "sentence_start_token = \"SENTENCE_START\"\n",
    "sentence_end_token = \"SENTENCE_END\"\n",
    "\n",
    "\n",
    "# Read the data file, parse and tokenzie the senteances, and append SENTENCE_START and SENTENCE_END tokens for each sentence.\n",
    "def extract_sentences(data_filename):\n",
    "    print(\"Reading CSV data file:\", data_filename)\n",
    "    with open(data_filename, 'r', encoding='utf-8') as f:\n",
    "        # Read the data file as a CVS file\n",
    "        reader = csv.reader(f, skipinitialspace=True)\n",
    "\n",
    "        # Skip the first element of the data file (which is always \"body\")\n",
    "        reader.__next__()\n",
    "\n",
    "        # Split full comments into sentences\n",
    "        sentences = itertools.chain(*[nltk.sent_tokenize(x[0].lower()) for x in reader])\n",
    "\n",
    "        # Append SENTENCE_START and SENTENCE_END at the beginning and end of each sentence\n",
    "        sentences = [\"%s %s %s\" % (sentence_start_token, x, sentence_end_token) for x in sentences]\n",
    "\n",
    "        return sentences\n",
    "\n",
    "dataset_filename = \"exemple.data\"\n",
    "sentences = extract_sentences(dataset_filename)\n",
    "\n",
    "print(\"Parsed %d sentences.\" % (len(sentences)))\n",
    "print(\"sentences=\", sentences)\n"
   ]
  },
  {
   "cell_type": "code",
   "execution_count": 15,
   "metadata": {
    "collapsed": false
   },
   "outputs": [
    {
     "name": "stdout",
     "output_type": "stream",
     "text": [
      "[['SENTENCE_START', 'i', 'joined', 'a', 'new', 'league', 'this', 'year', 'and', 'they', 'have', 'different', 'scoring', 'rules', 'than', 'i', \"'m\", 'used', 'to', '.', 'SENTENCE_END'], ['SENTENCE_START', 'it', \"'s\", 'a', 'slight', 'ppr', 'league-', '.2', 'ppr', '.', 'SENTENCE_END'], ['SENTENCE_START', 'standard', 'besides', '1', 'points', 'for', '15', 'yards', 'receiving', ',', '.2', 'points', 'per', 'completion', ',', '6', 'points', 'per', 'td', 'thrown', ',', 'and', 'some', 'bonuses', 'for', 'rec/rush/pass', 'yardage', '.', 'SENTENCE_END'], ['SENTENCE_START', 'my', 'question', 'is', ',', 'is', 'it', 'wildly', 'clear', 'that', 'qb', 'has', 'the', 'highest', 'potential', 'for', 'points', '?', 'SENTENCE_END'], ['SENTENCE_START', 'i', 'put', 'in', 'the', 'rules', 'at', 'a', 'ranking', 'site', 'and', 'noticed', 'that', 'top', 'qbs', 'had', '300', 'points', 'more', 'than', 'the', 'top', 'rb/wr', '.', 'SENTENCE_END'], ['SENTENCE_START', 'would', 'it', 'be', 'dumb', 'not', 'to', 'grab', 'a', 'qb', 'in', 'the', 'first', 'round', '?', 'SENTENCE_END'], ['SENTENCE_START', 'in', 'your', 'scenario', ',', 'a', 'person', 'could', 'just', 'not', 'run', 'the', 'mandatory', 'background', 'check', 'on', 'the', 'buyer', 'and', 'still', 'sell', 'the', 'gun', 'to', 'the', 'felon', '.', 'SENTENCE_END'], ['SENTENCE_START', 'there', \"'s\", 'no', 'way', 'to', 'enforce', 'it', '.', 'SENTENCE_END'], ['SENTENCE_START', 'an', 'honest', 'seller', 'is', 'going', 'to', 'not', 'sell', 'the', 'gun', 'to', 'them', 'when', 'they', 'see', 'they', \"'re\", 'a', 'felon', 'on', 'the', 'background', 'check', '.', 'SENTENCE_END'], ['SENTENCE_START', 'a', 'dishonest', 'seller', 'is', \"n't\", 'going', 'to', 'run', 'the', 'check', 'in', 'the', 'first', 'place', '.', 'SENTENCE_END'], ['SENTENCE_START', 'no', 'one', 'is', 'going', 'to', 'be', 'honest', 'enough', 'to', 'run', 'the', 'check', ',', 'see', 'they', \"'re\", 'a', 'felon', ',', 'and', 'then', 'all', 'of', 'a', 'sudden', 'immediately', 'turn', 'dishonest', 'and', 'say', '``', 'nah', ',', 'you', 'know', 'what', ',', 'here', \"'s\", 'your', 'gun', 'anyway', '.', \"''\", 'SENTENCE_END'], ['SENTENCE_START', 'they', 'would', \"n't\", 'run', 'the', 'fucking', 'check', 'in', 'the', 'first', 'place', ',', 'genius', '.', 'SENTENCE_END'], ['SENTENCE_START', 'your', 'bullshit', 'proposal', 'is', '**not', 'enforceable**', '.', 'SENTENCE_END'], ['SENTENCE_START', 'this', 'is', 'why', 'people', 'without', '&', 'gt', ';', 'here', \"'s\", 'an', 'idea', ',', 'why', 'not', 'make', 'a', 'background', 'check', 'system', 'where', 'it', 'would', 'be', 'illegal', 'to', 'sell', 'guns', 'to', 'felons', '?', 'SENTENCE_END'], ['SENTENCE_START', 'that', 'does', \"n't\", 'convince', 'you', '?', 'SENTENCE_END'], ['SENTENCE_START', 'idgaf', '.', 'SENTENCE_END'], ['SENTENCE_START', 'we', 'already', 'fucking', 'have', 'that', '.', 'SENTENCE_END'], ['SENTENCE_START', 'what', 'are', \"n't\", 'you', 'understanding', 'about', 'this', '?', '!', 'SENTENCE_END'], ['SENTENCE_START', 'it', \"'s\", 'just', 'currently', 'not', 'available', 'to', 'private', 'sellers', '.', 'SENTENCE_END'], ['SENTENCE_START', 'i', \"'d\", 'like', 'to', 'make', 'it', 'available', ',', 'but', 'there', \"'s\", 'no', 'point', 'in', 'making', 'it', 'mandatory', '.', 'SENTENCE_END'], ['SENTENCE_START', '&', 'gt', ';', 'you', \"'re\", 'just', 'supporting', 'it', 'to', 'make', 'a', 'gesture', 'towards', 'background', 'check', 'reform', 'in', 'bad', 'faith', '.', 'SENTENCE_END'], ['SENTENCE_START', 'as', 'a', 'gun', 'owner', 'who', 'has', 'harmed', 'no', 'one', 'and', 'has', 'constitutionally', 'protected', 'rights', ',', 'i', 'actually', 'do', \"n't\", 'own', 'the', 'anti-gun', 'side', 'a', 'damn', 'thing', '.', 'SENTENCE_END'], ['SENTENCE_START', 'it', \"'s\", 'people', 'like', 'you', 'that', 'convince', 'me', 'to', 'not', 'give', 'an', 'inch', 'at', 'all', '.', 'SENTENCE_END'], ['SENTENCE_START', 'i', \"'m\", 'wiling', 'to', 'extend', 'nics', 'to', 'private', 'sellers', 'as', 'voluntary', '.', 'SENTENCE_END'], ['SENTENCE_START', 'take', 'it', 'or', 'leave', 'it', ',', 'because', 'it', 'is', \"n't\", 'going', 'to', 'be', 'made', 'mandatory', '.', 'SENTENCE_END'], ['SENTENCE_START', 'not', 'gon', 'na', 'happen', '.', 'SENTENCE_END'], ['SENTENCE_START', 'period', '.', 'SENTENCE_END'], ['SENTENCE_START', 'they', 'do', \"n't\", 'get', 'paid', 'for', 'how', 'much', 'time', 'you', 'spend', 'building', 'your', 'army', '.', 'SENTENCE_END'], ['SENTENCE_START', 'they', 'get', 'paid', 'when', 'you', 'gem', 'it', '.', 'SENTENCE_END'], ['SENTENCE_START', 'having', 'a', 'premade', 'layout', 'saves', 'what', ',', '30', 'seconds', '?', 'SENTENCE_END'], ['SENTENCE_START', 'during', 'that', 'time', 'they', \"'ve\", 'made', '$', '0', 'and', 'still', 'have', 'the', 'ability', 'to', 'make', '$', 'x', 'if', 'you', 'decide', 'to', 'gem', 'it', '.', 'SENTENCE_END'], ['SENTENCE_START', 'i', 'dunno', ',', 'back', 'before', 'the', 'august', 'update', 'in', 'an', 'a+', 'lobby', 'for', 'tower', 'control', 'in', 'saltspray', 'rig', ',', 'i', 'remember', 'the', 'enemy', 'team', 'barraging', 'us', 'with', 'bombs', 'in', 'a', 'suspiciously', 'coordinated', 'fashion', '.', 'SENTENCE_END'], ['SENTENCE_START', 'and', 'my', 'teammates', 'were', 'also', 'tossing', 'bombs', 'left', 'and', 'right', '.', 'SENTENCE_END'], ['SENTENCE_START', 'non-stop', 'splat/suction/burst', 'bombs', '.', 'SENTENCE_END'], ['SENTENCE_START', 'bombs', ',', 'bombs', 'fucking', 'everywhere', '.', 'SENTENCE_END'], ['SENTENCE_START', 'it', 'was', 'terrifying', 'having', 'to', 'dodge', 'one', 'after', 'the', 'other', '.', 'SENTENCE_END'], ['SENTENCE_START', 'it', 'never', 'ended', ',', 'and', 'some', 'of', 'them', 'even', 'had', 'bomb', 'rush', 'to', 'toss', 'even', 'more', 'goddamn', 'bombs', '.', 'SENTENCE_END'], ['SENTENCE_START', 'i', 'think', 'i', 'still', 'have', 'ptsd', 'of', 'that', 'horrifying', 'event', '.', 'SENTENCE_END'], ['SENTENCE_START', 'that', 'match', 'really', 'felt', 'like', 'a', 'michael', 'bay', 'movie', '.', 'SENTENCE_END'], ['SENTENCE_START', 'no', ',', 'but', 'toriyama', 'sometimes', 'would', 'draw', 'himself', 'as', 'a', 'little', 'robot', '.', 'SENTENCE_END'], ['SENTENCE_START', 'shen', 'was', 'a', 'funny', 'character', 'for', 'a', 'few', 'episodes', '(', 'hitting', 'yamcha', 'in', 'the', 'junk', ')', 'before', 'you', 'find', 'out', 'his', 'true', 'identity', '.', 'SENTENCE_END'], ['SENTENCE_START', 'then', 'he', 'has', 'an', 'awesome', 'fight', 'with', 'piccolo', '.', 'SENTENCE_END'], ['SENTENCE_START', 'implement', 'some', 'form', 'of', 'tenure', 'for', 'mods', 'and', 'require', 'a', 'majority', 'vote', 'to', 'remove', 'any', 'tenured', 'mod', '.', 'SENTENCE_END'], ['SENTENCE_START', 'only', 'allow', 'mods', 'to', 'trigger', 'a', 'removal', 'vote', 'on', 'mods', 'lower', 'than', 'them', 'in', 'the', 'hierarchy', 'however', '.', 'SENTENCE_END'], ['SENTENCE_START', 'this', 'removes', 'the', 'possibility', 'of', 'a', 'single', 'mod', '(', 'such', 'as', 'an', 'absentee', 'top', 'mod', ')', 'swooping', 'in', 'and', 'blowing', 'up', 'the', 'sub', 'but', 'does', \"n't\", 'create', 'opportunities', 'for', 'hijacking', '.', 'SENTENCE_END'], ['SENTENCE_START', 'importantly', ',', 'it', 'also', 'does', \"n't\", 'require', 'rejiggering', 'the', 'existing', 'mod', 'hierarchies', 'or', 'ongoing', 'admin', 'involvement', 'in', 'dispute', 'resolution', '.', 'SENTENCE_END'], ['SENTENCE_START', 'i', 'hate', 'reading', 'shit', 'like', 'this', 'because', 'you', 'sound', 'like', 'such', 'a', 'catch', 'before', 'or', 'after', 'you', 'started', 'working', 'out', ',', 'and', 'your', 'husband', 'takes', 'you', 'for', 'granted', '.', 'SENTENCE_END'], ['SENTENCE_START', 'what', 'i', 'would', 'do', 'to', 'be', 'with', 'someone', 'like', 'you', '.', 'SENTENCE_END'], ['SENTENCE_START', 'i', \"'m\", 'not', 'going', 'to', 'tell', 'you', 'to', 'stay', 'or', 'go', 'but', 'whichever', 'you', 'decide', ',', 'just', 'do', \"n't\", 'lose', 'sight', 'of', 'how', 'you', 'deserve', 'to', 'be', 'treated', 'and', 'do', \"n't\", 'put', 'up', 'with', 'anything', 'less', '.', 'SENTENCE_END'], ['SENTENCE_START', '&', 'gt', ';', 'baltimore', 'county', 'prosecutors', 'will', 'speak', 'to', 'the', 'victim', \"'s\", 'family', 'before', 'deciding', 'whether', 'to', 'charge', 'shattuck', ',', 'reports', 'the', 'station', '.', 'SENTENCE_END'], ['SENTENCE_START', 'earlier', 'the', 'parents', 'said', ':', '&', 'gt', ';', \"''\", 'what', 'she', 'did', 'to', 'my', 'son', 'is', 'heinous', '.', 'SENTENCE_END'], ['SENTENCE_START', 'the', 'fact', 'that', 'she', 'paraded', 'her', 'pedophilia', 'in', 'front', 'of', 'her', 'own', 'son', 'is', 'even', 'more', 'disturbing', ',', \"''\", 'the', 'mother', 'said', '.', 'SENTENCE_END'], ['SENTENCE_START', '``', 'any', 'adult', 'who', 'rapes', 'a', 'child', 'deserves', 'to', 'be', 'in', 'prison', '.', 'SENTENCE_END'], ['SENTENCE_START', 'please', 'hold', 'her', 'accountable', '.', \"''\", 'SENTENCE_END'], ['SENTENCE_START', 'it', 'seems', 'like', 'they', 'probably', 'will', 'ask', 'that', 'they', 'send', 'her', 'to', 'prison', '.', 'SENTENCE_END'], ['SENTENCE_START', 'i', 'hope', 'they', 'do', '.', 'SENTENCE_END'], ['SENTENCE_START', 'honestly', 'that', 'judge', 'basically', 'gave', 'the', 'green', 'light', 'to', 'any', 'adult', 'woman', 'to', 'molest', 'little', 'boys', 'free', 'of', 'consequence', 'in', 'the', 'future', 'and', 'that', \"'s\", 'simply', 'not', 'acceptable', '.', 'SENTENCE_END'], ['SENTENCE_START', 'i', 'think', 'you', 'might', 'be', 'missing', 'my', 'point', '.', 'SENTENCE_END'], ['SENTENCE_START', 'a', 'gun', 'is', 'a', 'tool', 'which', 'allows', 'you', 'to', 'kill', 'very', 'efficiently', '.', 'SENTENCE_END'], ['SENTENCE_START', 'not', 'having', 'those', 'around', 'means', 'there', \"'s\", 'less', 'chance', 'for', 'people', 'to', 'make', 'dumb', 'decisions', 'which', 'end', 'up', 'in', 'deaths', '.', 'SENTENCE_END'], ['SENTENCE_START', 'i', \"'m\", 'not', 'concerned', 'with', 'spree', 'killers', 'or', 'other', 'people', 'who', 'plan', 'to', 'kill', ',', 'i', \"'m\", 'concerned', 'with', 'people', 'who', 'would', \"n't\", 'otherwise', 'put', 'other', \"'s\", 'lives', 'at', 'risk', 'when', 'they', 'get', 'angry', ',', 'but', 'there', \"'s\", 'a', 'gun', 'at', 'hand', '.', 'SENTENCE_END'], ['SENTENCE_START', 'the', 'latter', 'is', 'vastly', 'more', 'common', 'than', 'the', 'former', '.', 'SENTENCE_END'], ['SENTENCE_START', 'thank', 'you', 'for', 'the', 'giveaway', 'op', '!', 'SENTENCE_END'], ['SENTENCE_START', 'i', 'would', 'like', 'to', 'enter', 'for', 'the', 'elder', 'scrolls', 'v', ':', 'skyrim', '.', 'SENTENCE_END'], ['SENTENCE_START', 'i', 'played', 'it', 'at', 'my', 'friends', 'house', 'but', 'have', \"n't\", 'been', 'able', 'to', 'get', 'it', 'yet', '!', 'SENTENCE_END'], ['SENTENCE_START', 'i', 'thank', 'you', 'again', 'for', 'this', 'giveaway', '.', 'SENTENCE_END'], ['SENTENCE_START', 'good', 'luck', 'everyone', '!', 'SENTENCE_END'], ['SENTENCE_START', 'im', 'dutch', 'and', 'have', 'watched', 'all', 'netherlands', 'games', 'for', 'the', 'last', 'few', 'years', ',', 'nigel', 'de', 'jong', 'has', 'been', 'solid', 'during', 'the', 'wc', 'and', 'before', 'and', 'i', 'see', 'no', 'reason', 'at', 'all', 'not', 'to', 'include', 'him', 'since', 'we', 'do', \"n't\", 'have', 'any', 'non', 'attacking', 'midfielders', 'in', 'our', 'team', 'other', 'then', 'anita', '(', 'which', 'i', 'do', \"n't\", 'really', 'rate', ')', 'and', 'blind', '(', 'who', 'we', \"'ll\", 'probably', 'need', 'as', 'lb', ')', '.', 'SENTENCE_END'], ['SENTENCE_START', 'tete', 'has', \"n't\", 'even', 'been', 'that', 'good', 'in', 'the', 'eredivisie', 'imo', ',', 'so', 'why', 'put', 'him', 'ahead', 'of', 'a', 'expierenced', 'player', 'in', 'the', 'dutch', 'squad', 'like', 'janmaat', 'is', 'beyond', 'me', '.', 'SENTENCE_END'], ['SENTENCE_START', 'we', 'do', \"n't\", 'have', 'a', 'real', 'lb', 'in', 'the', 'squad', ',', 'only', 'blind', 'and', 'kongolo', '(', 'who', 'did', \"n't\", 'play', 'well', 'in', 'a', 'weak', 'eredivisie', 'last', 'season', ')', 'so', 'that', \"'s\", 'why', 'i', 'would', 'include', 'pieters', '.', 'SENTENCE_END'], ['SENTENCE_START', 'i', \"'m\", 'not', 'making', 'assumptions', 'here', '.', 'SENTENCE_END'], ['SENTENCE_START', 'i', 'agree', 'that', 'our', 'defense', 'has', \"n't\", 'been', 'that', 'good', ',', 'that', \"'s\", 'why', 'i', 'do', \"n't\", 'get', 'why', 'we', 'do', \"n't\", 'use', 'nigel', 'de', 'jong', ',', 'that', \"'s\", 'why', 'i', 'would', \"n't\", 'use', 'young', 'unexpierenced', 'players', 'like', 'riedewald', 'and', 'tete', '.', 'SENTENCE_END'], ['SENTENCE_START', 'these', 'matches', 'are', 'super', 'important', ',', 'we', 'wo', \"n't\", 'qualify', 'if', 'we', 'do', \"n't\", 'win', 'them', ',', 'so', 'if', 'you', 'want', 'to', 'experiment', 'with', 'other', 'players', 'i', 'would', 'always', 'use', 'more', 'expierenced', 'players', 'and', 'not', 'players', 'who', 'played', 'with', 'each', 'other', 'before', 'instead', 'of', 'new', 'ones', 'like', 'tete', ',', 'riedewald', 'and', 'anita', '.', 'SENTENCE_END'], ['SENTENCE_START', \"don't\", 'just', 'take', 'them', 'before/after', '.', 'SENTENCE_END'], ['SENTENCE_START', 'i', 'take', 'prepare', 'before', 'going', 'out', 'and', 'recovere', 'on', 'the', 'come', 'down', 'and', 'my', 'rolls', 'have', 'always', 'been', 'pleasant', 'and', 'my', 'comedowns', 'minimal', '.', 'SENTENCE_END'], ['SENTENCE_START', 'both', 'can', 'be', 'found', 'on', '[', 'ravesafer.com', ']', '(', 'http', ':', '//www.ravesafer.com', ')', 'if', 'you', 'really', 'must', 'take', 'some', 'in', 'with', 'you', ',', 'the', 'prepare', 'pack', 'only', 'has', '3', 'pills', 'in', 'it', '(', 'all', 'of', 'the', 'supplements', 'are', 'combined', 'into', 'these', '3', 'pills', ')', ',', 'so', 'it', \"'s\", 'far', 'easier', 'to', 'get', 'them', 'into', 'places', 'than', 'having', 'all', 'the', 'supplements', 'separately', '.', 'SENTENCE_END'], ['SENTENCE_START', '&', 'gt', ';', 'key', 'word', 'there', 'is', '``', 'were', \"''\", '.', 'SENTENCE_END'], ['SENTENCE_START', 'as', 'i', 'nodded', 'to', 'when', 'i', 'said', '``', 'yeah', ',', 'back', 'in', '1960', \"''\", '.', 'SENTENCE_END'], ['SENTENCE_START', 'which', 'is', 'what', 'i', 'referred', 'to', '.', 'SENTENCE_END'], ['SENTENCE_START', 'i', 'pointed', 'out', 'the', '*history*', 'of', 'the', 'use', 'of', 'nullification', 'logic', '.', 'SENTENCE_END'], ['SENTENCE_START', '&', 'gt', ';', 'guess', 'what', '?', 'SENTENCE_END'], ['SENTENCE_START', 'this', 'is', \"n't\", '1960.', 'it', \"'s\", '2015', ',', 'and', 'so', 'what', '?', 'SENTENCE_END'], ['SENTENCE_START', 'so', 'people', 'do', \"n't\", 'have', 'bad', 'idea', '?', 'SENTENCE_END'], ['SENTENCE_START', 'a', 'bigot', 'wo', \"n't\", 'use', 'the', 'same', 'logic', 'to', 'refuse', 'to', 'convict', '?', 'SENTENCE_END'], ['SENTENCE_START', 'if', 'it', 'is', 'ok', 'to', 'say', '``', 'i', 'wo', \"n't\", 'convict', 'on', 'a', 'drug', 'charge', \"''\", 'it', 'is', 'ok', 'to', 'say', '``', 'i', 'wo', \"n't\", 'convict', 'on', 'a', 'rape', 'charge', \"''\", '.', 'SENTENCE_END'], ['SENTENCE_START', '&', 'gt', ';', 'you', \"'re\", 'playing', 'on', 'a', 'stereotype', 'from', 'nearly', '60', 'years', 'ago', 'as', 'if', 'it', 'were', 'a', 'true', 'today', '.', 'SENTENCE_END'], ['SENTENCE_START', 'and', 'you', 'have', 'completely', 'misunderstood', 'what', 'i', 'wrote', 'and', 'my', 'point', '.', 'SENTENCE_END'], ['SENTENCE_START', '&', 'gt', ';', 'i', \"'d\", 'really', 'like', 'to', 'see', 'if', 'anyone', 'has', 'ever', 'used', 'it', '.', 'SENTENCE_END'], ['SENTENCE_START', '[', 'here', \"'s\", ']', '(', 'http', ':', '//thefreethoughtproject.com/indiana-law-force-cops-overturned-mans-battery-officer-charge/', ')', 'a', 'case', 'where', 'a', 'man', 'slamming', 'his', 'house', \"'s\", 'door', 'against', 'an', 'officer', \"'s\", 'foot', 'was', 'deemed', 'legal', 'because', 'the', 'officer', 'did', \"n't\", 'have', 'probable', 'cause', 'to', 'investigate', 'his', 'house', '.', 'SENTENCE_END'], ['SENTENCE_START', '&', 'gt', ';', 'but', 'the', 'appeals', 'court', 'reasoned', 'that', ',', '“constable', 'webb', 'had', 'entered', 'cupello’s', 'apartment', 'without', 'consent', ',', 'probable', 'cause', ',', 'reasonable', 'suspicion', ',', 'or', 'exigent', 'circumstances', '.', 'SENTENCE_END'], ['SENTENCE_START', 'because', 'constable', 'webb', 'resisted', 'cupello’s', 'subsequent', 'attempts', 'to', 'close', 'the', 'door', ',', 'cupello', 'had', 'a', 'reasonable', 'belief', 'that', 'force', 'was', 'necessary', 'to', 'terminate', 'constable', 'webb’s', 'unlawful', 'entry', 'into', 'his', 'apartment.”', 'SENTENCE_END'], ['SENTENCE_START', 'shane', \"o'mac\", 'vs', 'brock', 'lesnar', 'no', 'dq', 'obviously', 'shane', 'would', 'have', 'to', 'be', 'younger', 'and', 'this', 'would', 'be', 'first', 'run', 'brock', 'when', 'he', 'was', \"n't\", 'being', 'pushed', 'as', 'basically', 'unstoppable', 'but', 'i', 'do', \"n't\", 'think', 'anyone', 'dishes', 'out', 'punishment', 'better', 'than', 'brock', 'and', 'i', 'do', \"n't\", 'think', 'anyone', 'makes', 'getting', 'the', 'crap', 'kicked', 'out', 'of', 'them', 'look', 'as', 'good', 'as', 'shane', 'o', 'SENTENCE_END'], ['SENTENCE_START', 'i', 'do', \"n't\", 'see', 'anything', 'like', 'that', 'on', 'the', 'wiring', 'diagram', '.', 'SENTENCE_END'], ['SENTENCE_START', 'does', \"n't\", 'mean', 'its', 'not', 'there', 'but', 'i', 'never', 'heard', 'of', 'it', '.', 'SENTENCE_END'], ['SENTENCE_START', 'the', 'first', 'gen', 'bikes', 'have', 'and', 'accessory', 'wire', 'in', 'the', 'fairing', 'that', 'can', 'be', 'used', 'for', 'low', 'draw', 'devices', 'like', 'a', 'cell', 'phone', 'or', 'gps', '.', 'SENTENCE_END'], ['SENTENCE_START', 'installing', 'a', '12v', 'outlet', 'is', \"n't\", 'very', 'difficult', '.', 'SENTENCE_END'], ['SENTENCE_START', 'are', 'you', 'used', 'to', 'working', 'on', 'bikes', 'or', 'with', 'electric', 'wires', 'at', 'all', '?', 'SENTENCE_END'], ['SENTENCE_START', 'i', 'think', '*m*', 'is', 'one', 'of', 'the', 'most', 'interesting', 'early', 'sound', 'films', '.', 'SENTENCE_END'], ['SENTENCE_START', 'fritz', 'lang', 'really', 'made', 'incredible', 'use', 'of', 'sound', ',', 'especially', 'for', 'a', 'director', 'who', 'had', 'predominantly', 'done', 'silent', 'films', 'at', 'the', 'time', '.', 'SENTENCE_END'], ['SENTENCE_START', 'much', 'of', 'the', 'film', 'is', 'completely', 'silent', 'which', 'adds', 'to', 'the', 'suspense', 'for', 'me', 'and', 'the', 'anxiety', 'that', 'the', 'film', 'creates', '.', 'SENTENCE_END'], ['SENTENCE_START', 'there', \"'s\", 'never', 'really', 'a', 'wasted', 'sound', 'clip', ',', 'every', 'line', 'of', 'dialogue', 'is', 'extremely', 'important', '.', 'SENTENCE_END'], ['SENTENCE_START', 'even', 'peter', 'lorre', \"'s\", 'whistling', 'is', 'integral', 'to', 'the', 'plot', '.', 'SENTENCE_END'], ['SENTENCE_START', 'this', 'is', 'zen', 'as', 'it', 'is', 'found', 'outside', 'of', '/r/zen', '.', 'SENTENCE_END'], ['SENTENCE_START', 'zen', 'flesh', ',', 'zen', 'bones', '.', 'SENTENCE_END'], ['SENTENCE_START', 'this', 'place', 'does', \"n't\", 'fill', 'bellies', 'the', 'same', 'way', '.', 'SENTENCE_END'], ['SENTENCE_START', 'and', 'since', 'you', 'never', 'stop', 'by', 'to', 'have', 'lunch', 'your', 'criticisms', 'are', 'again', 'unfounded', 'and', 'somewhat', 'laughable', '.', 'SENTENCE_END'], ['SENTENCE_START', 'why', 'do', \"n't\", 'you', 'stop', 'by', 'for', 'tea', '?', 'SENTENCE_END'], ['SENTENCE_START', 'ask', 'questions', 'to', 'your', 'heart', \"'s\", 'content', '.', 'SENTENCE_END'], ['SENTENCE_START', 'finally', 'learn', 'to', 'cook', '!', 'SENTENCE_END'], ['SENTENCE_START', 'my', 'teacher', 'is', 'very', 'fine', '.', 'SENTENCE_END'], ['SENTENCE_START', 'the', 'game', 'is', 'very', 'good', ',', 'but', 'the', 'style', 'of', 'it', 'does', \"n't\", 'lead', 'to', 'paying', 'attention', 'to', 'the', 'storyline', 'or', 'the', 'environment', '.', 'SENTENCE_END'], ['SENTENCE_START', 'which', 'is', 'a', 'fault', 'of', 'the', 'game', 'as', 'it', 'does', \"n't\", 'reward', 'you', 'in', 'game', 'with', 'anything', 'for', 'exploring', ',', 'except', 'small', 'acknowledgements', '.', 'SENTENCE_END'], ['SENTENCE_START', 'so', 'would', 'it', 'technically', 'be', 'possible', 'to', 'write', 'down', 'all', 'our', 'physics', 'equations', 'on', 'scratch', 'paper', 'during', 'the', 'tutorial', 'and', 'then', 'use', 'that', 'same', 'scratch', 'paper', '(', 'with', 'the', 'equations', ')', 'during', 'the', 'chem/physics', 'section', 'since', 'it', \"'s\", 'the', 'first', 'section', '?', 'SENTENCE_END'], ['SENTENCE_START', 'bc', 'that', 'would', 'be', 'super', 'great', '...', 'SENTENCE_END'], ['SENTENCE_START', 'i', 'recommend', '[', 'intimacy', 'and', 'desire', ']', '(', 'http', ':', '//amzn.com/0825306299', ')', 'by', 'david', 'schnarch', '.', 'SENTENCE_END'], ['SENTENCE_START', 'an', 'excellent', 'read', ',', 'and', 'a', 'very', 'thorough', 'discussion', 'of', 'the', 'problem', 'of', 'unequal', 'desire', 'in', 'long', 'term', 'relationships', '.', 'SENTENCE_END'], ['SENTENCE_START', '[', 'mating', 'in', 'captivity', ']', '(', 'http', ':', '//amzn.com/0060753641', ')', 'is', 'also', 'very', 'good', ',', 'but', 'focuses', 'more', 'on', 'lack', 'of', 'desire', 'rather', 'than', 'unequal', 'desire', '.', 'SENTENCE_END'], ['SENTENCE_START', 'no', '.', 'SENTENCE_END'], ['SENTENCE_START', 'pl', 'has', 'more', 'teams', 'in', 'europe', 'than', 'italy', '=', 'pl', 'teams', 'can', 'make', 'more', 'points', 'than', 'serie', 'a', 'teams', '.', 'SENTENCE_END'], ['SENTENCE_START', 'pl', 'will', 'only', 'lose', 'its', '4th', 'cl', 'spot', 'if', 'all', 'english', 'teams', 'lose', 'and', 'all', 'italian', 'teams', 'reach', 'semifinals/finals', '.', 'SENTENCE_END'], ['SENTENCE_START', 'so', ':', 'no', '.', 'SENTENCE_END'], ['SENTENCE_START', 'start', 'reading', 'about', 'cubes', '.', 'SENTENCE_END'], ['SENTENCE_START', 'do', 'that', 'for', 'a', 'few', 'months', ',', 'then', 'you', \"'ll\", 'have', 'a', 'better', 'idea', '.', 'SENTENCE_END'], ['SENTENCE_START', 'people', 'do', \"n't\", 'just', 'build', 'them', 'without', 'knowing', 'anything', '.', 'SENTENCE_END'], ['SENTENCE_START', 'we', 'get', 'into', 'it', 'after', 'months', 'of', 'reading', 'about', 'cube', 'building', 'theory', ',', 'reading', 'lists', ',', 'etc', '.', 'SENTENCE_END'], ['SENTENCE_START', 'start', 'along', 'that', 'road', '.', 'SENTENCE_END'], ['SENTENCE_START', 'yeah', ',', 'no', '.', 'SENTENCE_END'], ['SENTENCE_START', 'that', \"'s\", 'not', 'the', 'way', 'politics', 'work', '.', 'SENTENCE_END'], ['SENTENCE_START', 'you', 'do', \"n't\", 'elect', 'someone', 'who', 'has', 'no', 'plan', 'and', 'then', 'pray', 'that', 'he', \"'ll\", 'figure', 'out', 'a', 'way', 'to', 'get', 'it', 'done', 'once', 'he', \"'s\", 'in', 'office', '.', 'SENTENCE_END'], ['SENTENCE_START', 'you', \"'re\", 'basically', 'electing', 'someone', 'on', 'a', 'promise', 'they', 'may', 'or', 'may', 'not', 'keep', ',', 'which', 'i', 'thought', 'was', 'what', 'sanders', \"'\", 'campaign', 'was', 'against', '.', 'SENTENCE_END'], ['SENTENCE_START', 'at', 'least', 'candidates', 'like', 'clinton', 'or', 'bush', 'have', 'the', 'political', 'muscle', 'to', 'get', 'what', 'they', 'say', 'done', '.', 'SENTENCE_END'], ['SENTENCE_START', 'i', 'think', 'this', 'is', 'something', 'that', 'escapes', 'a', 'lot', 'of', 'people', '.', 'SENTENCE_END'], ['SENTENCE_START', 'it', \"'s\", 'not', 'about', 'who', 'was', 'in', 'the', 'right', 'or', 'who', 'was', 'in', 'the', 'wrong', ',', 'it', 'comes', 'down', 'to', 'everyone', 'staying', 'safe', 'and', 'going', 'home', 'in', 'one', 'piece', 'at', 'the', 'end', 'of', 'the', 'day', '.', 'SENTENCE_END'], ['SENTENCE_START', 'i', 'would', \"n't\", 'say', 'pointless', '.', 'SENTENCE_END'], ['SENTENCE_START', 'it', 'can', 'help', 'with', 'all', 'other', 'victory', 'types', '.', 'SENTENCE_END'], ['SENTENCE_START', 'source', ':', 'http', ':', '//civilization.wikia.com/wiki/tourism_', '(', 'civ5', ')', 'science', 'from', 'trade', 'routes', ':', 'cultural', 'influence', 'with', 'a', 'certain', 'nation', 'increases', 'science', 'output', 'from', 'trade', 'routes', 'established', 'with', 'them', '.', 'SENTENCE_END'], ['SENTENCE_START', 'so', ',', 'boost', 'your', 'research', 'by', 'opening', 'trade', 'routes', 'with', 'nations', 'you', \"'re\", 'influencing', 'culturally', '!', 'SENTENCE_END'], ['SENTENCE_START', 'espionage', ':', 'your', 'spies', 'become', 'more', 'effective', 'in', 'nations', 'influenced', 'by', 'you', 'culturally', '.', 'SENTENCE_END'], ['SENTENCE_START', 'they', 'will', 'take', 'only', 'one', 'turn', 'to', 'establish', 'surveillance', 'in', 'their', 'cities', '.', 'SENTENCE_END'], ['SENTENCE_START', 'higher', 'influence', 'status', 'also', 'makes', 'them', 'operate', 'as', 'if', 'they', 'had', 'already', 'been', 'promoted', '.', 'SENTENCE_END'], ['SENTENCE_START', 'conquest', ':', 'when', 'you', 'capture', 'a', 'city', 'belonging', 'to', 'an', 'enemy', 'influenced', 'by', 'you', ',', 'resistance', 'in', 'that', 'city', 'will', 'last', 'in', 'fewer', 'turns', '.', 'SENTENCE_END'], ['SENTENCE_START', 'also', ',', 'the', 'city', 'will', 'lose', 'fewer', 'citizens', 'upon', 'capturing', '.', 'SENTENCE_END'], ['SENTENCE_START', 'love', 'that', 'song', '.', 'SENTENCE_END'], ['SENTENCE_START', 'maybe', 'it', \"'s\", 'just', 'me', 'being', 'weird', '(', 'spoiler', 'alert', ':', 'it', 'is', ')', ',', 'but', 'i', 'always', 'imagine', 'the', 'narrator', 'in', 'that', 'song', 'singing', 'it', 'to', 'himself', '.', 'SENTENCE_END'], ['SENTENCE_START', 'or', 'even', ',', 'it', \"'s\", 'a', 'buddhist-type', 'thing', 'and', 'the', 'it', \"'s\", 'the', 'concept', 'of', '``', 'you', \"''\", 'itself', 'that', \"'s\", 'bad', 'and', 'needs', 'to', 'die', '.', 'SENTENCE_END'], ['SENTENCE_START', 'i', 'like', 'to', 'think', 'too', 'much', ':', ')', 'SENTENCE_END'], ['SENTENCE_START', 'for', 'some', 'people', ',', 'it', '*is*', 'a', 'constant', 'lifestyle', '.', 'SENTENCE_END'], ['SENTENCE_START', 'some', 'people', 'have', 'kinks', 'that', 'are', 'informed', 'by', 'their', 'interests', 'in', 'the', 'fandom', '.', 'SENTENCE_END'], ['SENTENCE_START', '(', '``', 'perversion', \"''\", 'is', 'a', 'strong', 'word', 'that', 'i', 'do', \"n't\", 'think', 'applies', 'to', 'most', 'of', 'them', ',', 'which', 'may', 'be', 'odd', ',', 'but', 'are', 'harmless', '.', ')', 'SENTENCE_END'], ['SENTENCE_START', 'for', 'most', 'though', ',', 'furry', 'is', 'largely', 'about', 'the', 'appreciation', 'of', 'the', 'anthropomorphic', 'aesthetic', '.', 'SENTENCE_END'], ['SENTENCE_START', 'here', \"'s\", 'a', 'couple', 'links', '.', 'SENTENCE_END'], ['SENTENCE_START', 'https', ':', '//www.flayrah.com/4117/retrospective-illustrated-chronology-furry-fandom-1966-1996', 'http', ':', '//www.hoodedutilitarian.com/2015/01/you-cant-get-inside/', 'SENTENCE_END'], ['SENTENCE_START', 'he', \"'s\", 'actually', 'very', 'fun', 'to', 'play', 'as', 'if', 'you', 'understand', 'the', 'game', '.', 'SENTENCE_END'], ['SENTENCE_START', 'he', 'also', 'has', 'counterplay', ',', 'but', 'people', 'like', 'yourself', 'are', 'too', 'ignorant', 'to', 'figure', 'that', 'out', 'and', 'instead', 'just', 'say', 'he', \"'s\", 'badly', 'designed', 'just', 'because', 'you', 'dont', 'put', 'any', 'thought', 'into', 'it', '.', 'SENTENCE_END'], ['SENTENCE_START', 'truth', 'is', 'yorick', 'is', 'well', 'balanced', ',', 'he', \"'s\", 'just', 'old', 'and', 'unpopular', '.', 'SENTENCE_END'], ['SENTENCE_START', 'thats', 'why', 'he', \"'s\", 'last', 'on', 'the', 'rework', 'table', ';', 'because', 'he', 'isnt', 'detrimental', 'to', 'the', 'game', 'and', 'not', 'enough', 'people', 'play', 'this', 'champ', '.', 'SENTENCE_END'], ['SENTENCE_START', 'the', 'thing', 'is', 'that', 'third-tier', 'classes', 'were', \"n't\", 'really', 'any', 'different', 'than', 'the', 'second-tier', 'versions', 'they', 'replaced', '.', 'SENTENCE_END'], ['SENTENCE_START', 'they', 'just', 'hamstrung', 'the', 'second-tier', 'versions', 'a', 'bit', 'and', 'boosted', 'the', 'stat', 'caps', ',', 'reserving', 'things', 'like', 'signature', 'skills', 'or', 'a', 'second', 'weapon', 'type', 'for', 'third-tier', 'instead', '.', 'SENTENCE_END'], ['SENTENCE_START', 'the', 'centra', 'players', 'agreed', 'to', 'this', 'last', 'season', ',', 'and', 'had', 'no', 'problems', 'with', 'it', 'when', 'it', 'was', 'played', 'through', '.', 'SENTENCE_END'], ['SENTENCE_START', 'it', 'basically', 'becomes', 'midwest', 'vs.', 'northeast/europe', 'for', 'radius', '.', 'SENTENCE_END'], ['SENTENCE_START', 'sphere', 'is', 'west', 'vs', 'southeast', '.', 'SENTENCE_END'], ['SENTENCE_START', 'and', 'origin', 'is', 'whoever', 'can', 'play', 'on', 'it', 'best', '.', 'SENTENCE_END'], ['SENTENCE_START', 'it', 'works', 'out', '.', 'SENTENCE_END'], ['SENTENCE_START', 'and', 'your', 'usc', 'team', 'has', 'beaten', 'my', 'usc', 'team', 'on', 'radius', 'in', 'the', 'past', ',', 'so', 'i', 'think', 'yac', 'and', 'bigbird', 'will', 'be', 'fine', ',', 'lol', '.', 'SENTENCE_END'], ['SENTENCE_START', 'yea', ',', 'but', 'if', 'it', 'does', 'ridiculous', 'amount', 'of', 'damage', 'guaranteed', ',', 'which', 'it', 'will', ',', 'then', ',', 'if', 'you', 'have', \"n't\", 'won', 'the', 'game', 'with', 'that', 'drop', 'you', 'will', 'win', 'with', 'speedlings', '.', 'SENTENCE_END'], ['SENTENCE_START', 'it', 'worked', 'too', 'reliably', ',', 'there', 'was', \"n't\", 'enough', 'incentive', 'to', 'not', 'do', 'it', '.', 'SENTENCE_END'], ['SENTENCE_START', 'whenever', 'i', 'see', 'what', 'would', 'normally', 'be', 'a', 'good', 'deal', 'advertised', 'to', 'me', ',', 'i', 'just', 'dismiss', 'it', 'as', 'a', 'scam', '.', 'SENTENCE_END'], ['SENTENCE_START', 'in', 'my', 'mind', 'at', 'least', ',', 'every', 'single', 'ad', 'i', 'see', 'is', 'a', 'scam', '.', 'SENTENCE_END'], ['SENTENCE_START', 'now', ',', 'if', 'i', \"'m\", 'looking', 'on', 'google', 'and', 'i', 'come', 'across', 'a', 'website', 'on', 'my', 'own', 'with', 'that', 'same', 'good', 'deal', ',', 'i', \"'ll\", 'be', 'all', 'over', 'it', '.', 'SENTENCE_END'], ['SENTENCE_START', 'but', 'if', 'i', 'come', 'across', 'it', 'as', 'an', 'ad', ',', 'nope', '.', 'SENTENCE_END'], ['SENTENCE_START', 'i', 'was', 'in', 'the', 'same', 'boat', ',', 'i', \"'m\", 'going', 'into', 'first', 'year', 'uni', 'now', 'and', 'felt', 'left', 'out', 'when', 'most', 'of', 'my', 'friends', 'had', 'their', 'license', '.', 'SENTENCE_END'], ['SENTENCE_START', 'i', 'remember', 'i', 'was', 'scared', 'as', 'hell', 'as', 'the', 'test', 'date', 'was', 'approaching', 'because', 'i', 'did', \"n't\", 'want', 'to', 'fail', 'and', 'most', 'of', 'my', 'friends', 'got', 'their', 'license', 'first', 'trial', 'too', '.', 'SENTENCE_END'], ['SENTENCE_START', 'what', 'helped', 'me', 'was', 'a', 'lot', 'of', 'practice', ',', 'i', 'used', 'to', 'get', 'my', 'dad', 'to', 'take', 'me', 'driving', 'for', 'hours', 'multiple', 'times', 'a', 'week', 'and', 'get', 'really', 'comfortable', 'driving', '.', 'SENTENCE_END'], ['SENTENCE_START', 'so', 'when', 'i', 'did', 'my', 'test', ',', 'all', 'my', 'anxiety', 'and', 'nervousness', 'was', 'gone', 'because', 'i', 'was', 'so', 'comfortable', 'with', 'driving', 'at', 'this', 'point', '.', 'SENTENCE_END'], ['SENTENCE_START', 'good', 'luck', '!', 'SENTENCE_END'], ['SENTENCE_START', 'the', '8', 'damage', 'is', 'great', 'to', 'help', 'close', 'out', 'games', 'or', 'even', 'to', 'help', 'remove', 'the', 'board', '.', 'SENTENCE_END'], ['SENTENCE_START', 'tech', 'cards', 'just', 'add', 'unneeded', 'variation', ',', 'even', 'though', 'rag', 'is', 'an', 'rng', 'based', 'card', ',', 'its', 'value', 'is', 'always', 'consistent', 'in', 'any', 'match', 'up', '.', 'SENTENCE_END'], ['SENTENCE_START', 'not', 'often', ',', 'i', 'mostly', 'go', 'by', 'what', 'their', 'fans', 'say', 'about', 'him', 'and', 'reading', 'stuff', 'like', 'this', 'http', ':', '//www.espnfc.co.uk/club/internazionale/110/blog/post/2476665/mauro-icardi-of-inter-milan-deserving-of-scoring-honour', 'SENTENCE_END'], ['SENTENCE_START', 'verratti', 'is', 'a', 'great', 'enforcer', '.', 'SENTENCE_END'], ['SENTENCE_START', 'vidal', 'is', 'enough', 'of', 'a', 'player', 'to', 'dominate', 'a', 'midfield', 'the', 'way', 'iniesta', 'ca', \"n't\", '.', 'SENTENCE_END'], ['SENTENCE_START', 'what', 'i', 'am', 'saying', 'is', 'that', 'each', 'and', 'every', 'team', 'bar', 'pep', \"'s\", 'barça', 'had', 'to', 'rely', 'on', 'a', 'strong', 'physical', 'midfielder', 'to', 'win', '.', 'SENTENCE_END'], ['SENTENCE_START', 'busquets', ',', 'marchisio', ',', 'pogba', ',', 'rakitic', 'are', 'strong', ',', 'they', 'are', 'not', 'small', ',', 'elegant', 'technical', 'players', '.', 'SENTENCE_END'], ['SENTENCE_START', 'the', 'big', 'discussion', 'was', 'about', 'arsenal', '-', 'and', 'arsenal', 'do', \"n't\", 'have', 'that', 'physically', 'imposing', 'midfielder', 'other', 'teams', 'do', 'SENTENCE_END'], ['SENTENCE_START', 'it', \"'s\", 'why', 'these', '``', 'roles', \"''\", 'that', 'smite', 'have', 'are', 'really', 'fucking', 'annoying', 'when', 'more', 'unique', 'gods', 'enter', 'the', 'game', '.', 'SENTENCE_END'], ['SENTENCE_START', 'dota', 'technically', 'has', 'roles', 'but', 'everyone', 'ignores', 'them', 'and', 'plays', 'each', 'specific', 'hero', 'to', 'the', 'best', 'of', 'their', 'ability', ',', 'buying', 'the', 'items', 'that', 'work', 'best', 'for', 'that', 'hero', 'and', 'putting', 'them', 'in', 'the', 'lane', 'that', 'benefits', 'them', 'and', 'their', 'team', 'the', 'most', '.', 'SENTENCE_END'], ['SENTENCE_START', 'smite', 'gods', 'are', 'lumped', 'in', 'the', 'different', 'pools', 'where', 'roughly', 'the', 'same', 'items', 'are', 'bought', ',', 'with', 'roughly', 'the', 'same', 'playstyle', 'and', 'are', 'put', 'in', 'roughly', 'the', 'same', 'lanes', ',', 'with', 'few', 'exceptions', '.', 'SENTENCE_END'], ['SENTENCE_START', 'unfortunately', ',', 'your', 'post', 'has', 'been', 'removed', 'due', 'to', 'having', 'a', 'very', 'short', 'title', '.', 'SENTENCE_END'], ['SENTENCE_START', 'titles', 'do', 'not', 'need', 'to', 'be', 'overly', 'long', ',', 'only', 'about', 'an', '**average', 'sentence', 'in', 'length**', '(', '7', 'words', ')', 'but', 'substantial', 'enough', 'that', 'someone', 'else', 'can', 'understand', 'without', 'having', 'to', 'see', 'the', 'full', 'post', '.', 'SENTENCE_END'], ['SENTENCE_START', 'a', 'specific', 'question', 'will', 'attract', 'more', 'attention', 'than', 'a', 'general', 'one', '.', 'SENTENCE_END'], ['SENTENCE_START', 'rule', 'of', 'thumb', ':', '**if', 'your', 'question', 'can', 'fit', 'in', 'the', 'title', '(', '&', 'lt', ';', '300', 'characters', ')', ',', 'then', 'it', 'should', 'be', 'in', 'the', 'title', '.', 'SENTENCE_END'], ['SENTENCE_START', '**', '[', 'you', 'can', 'find', 'examples', 'of', 'other', 'titles', 'not', 'to', 'use', '**here**', '.', 'SENTENCE_END'], ['SENTENCE_START', ']', '(', 'http', ':', '//www.reddit.com/r/ps4/wiki/subreddit/rules/examples', '#', 'wiki_vague_titles', ')', 'SENTENCE_END']]\n"
     ]
    }
   ],
   "source": [
    "# Tokenize the sentences into words\n",
    "tokenized_sentences = [nltk.word_tokenize(sentence) for sentence in sentences]\n",
    "\n",
    "print(tokenized_sentences)\n"
   ]
  },
  {
   "cell_type": "code",
   "execution_count": 16,
   "metadata": {
    "collapsed": false
   },
   "outputs": [
    {
     "name": "stdout",
     "output_type": "stream",
     "text": [
      "Found 1103 unique words tokens.\n"
     ]
    }
   ],
   "source": [
    "# Count the word frequencies\n",
    "word_freq = nltk.FreqDist(itertools.chain(*tokenized_sentences))\n",
    "print(\"Found %d unique words tokens.\" % len(word_freq.items()))"
   ]
  },
  {
   "cell_type": "code",
   "execution_count": 17,
   "metadata": {
    "collapsed": false
   },
   "outputs": [
    {
     "name": "stdout",
     "output_type": "stream",
     "text": [
      "[('SENTENCE_START', 192), ('SENTENCE_END', 192), ('.', 165), ('the', 114), (',', 99), ('to', 91), ('a', 71), ('i', 67), ('and', 64), ('it', 60), ('in', 51), (\"n't\", 50), ('that', 47), ('is', 45), ('you', 42), ('of', 39), (\"'s\", 38), ('for', 26), ('do', 25), ('not', 24), ('with', 23), ('have', 21), ('be', 20), ('they', 19), ('like', 19), (':', 19), ('on', 19), ('was', 18), (')', 18), ('but', 18), ('as', 18), ('my', 17), ('(', 17), ('would', 16), ('this', 15), ('what', 15), ('has', 15), ('or', 15), ('are', 14), ('if', 14), ('them', 14), ('just', 13), ('all', 13), ('?', 13), ('an', 12), ('people', 12), ('no', 12), ('so', 12), ('at', 12), ('your', 12), ('who', 11), (\"''\", 11), ('get', 11), ('than', 11), (';', 11), ('more', 11), ('out', 11), ('why', 10), ('&', 10), ('he', 10), ('when', 10), ('will', 10), ('really', 9), ('``', 9), ('which', 9), ('other', 9), ('had', 9), ('gt', 9), ('think', 9), ('good', 9), ('even', 8), ('first', 8), ('use', 8), ('does', 8), ('we', 8), ('http', 8), ('there', 8), ('going', 8), ('by', 8), ('same', 8), ('then', 8), ('because', 8), ('about', 8), (\"'m\", 8), ('see', 8), ('can', 8), ('very', 8), ('any', 7), ('game', 7), ('me', 7), ('!', 7), ('before', 7), ('been', 7), ('their', 7), ('check', 7), ('say', 7), ('one', 7), ('also', 6), ('into', 6), ('having', 6), ('most', 6), ('gun', 6), ('take', 6), ('only', 6), (\"'re\", 6), ('some', 6), ('teams', 6), ('team', 6), ('players', 6), ('make', 6), ('points', 6), ('put', 6), ('bombs', 6), ('enough', 5), ('run', 5), (']', 5), ('last', 5), ('reading', 5), ('did', 5), ('used', 5), ('way', 5), ('[', 5), ('here', 5), ('lose', 4), ('without', 4), ('too', 4), ('background', 4), ('someone', 4), ('mod', 4), ('were', 4), ('fucking', 4), ('basically', 4), ('never', 4), (\"'ll\", 4), ('sound', 4), ('few', 4), ('his', 4), ('her', 4), ('point', 4), ('anything', 4), ('during', 4), ('up', 4), ('desire', 4), ('wo', 4), ('play', 4), ('always', 4), ('sell', 3), ('city', 3), ('zen', 3), ('still', 3), ('tete', 3), ('mods', 3), ('charge', 3), ('thing', 3), ('after', 3), ('convict', 3), ('these', 3), ('place', 3), ('since', 3), ('its', 3), ('our', 3), ('everyone', 3), ('made', 3), ('time', 3), ('roughly', 3), ('brock', 3), ('question', 3), ('felon', 3), ('help', 3), ('instead', 3), ('each', 3), ('different', 3), ('best', 3), ('every', 3), ('strong', 3), ('pl', 3), ('him', 3), ('mandatory', 3), ('routes', 3), ('own', 3), ('where', 3), ('done', 3), ('shane', 3), ('win', 3), ('come', 3), ('trade', 3), ('down', 3), ('title', 3), ('anyone', 3), ('much', 3), ('said', 3), ('from', 3), ('great', 3), ('top', 3), ('played', 3), ('house', 3), ('driving', 3), ('friends', 3), ('bad', 3), ('may', 3), ('idea', 3), ('prison', 2), ('technically', 2), ('super', 2), ('figure', 2), ('film', 2), ('turn', 2), ('against', 2), ('cupello’s', 2), ('she', 2), ('jong', 2), ('probable', 2), ('kill', 2), ('across', 2), ('logic', 2), ('ad', 2), ('now', 2), ('start', 2), ('little', 2), ('attention', 2), ('pills', 2), ('unequal', 2), ('convince', 2), ('years', 2), ('.2', 2), ('de', 2), ('want', 2), ('vote', 2), ('officer', 2), ('remove', 2), ('actually', 2), ('son', 2), ('how', 2), ('song', 2), ('thought', 2), ('qb', 2), ('year', 2), ('stop', 2), ('fine', 2), ('require', 2), ('titles', 2), ('anita', 2), ('ppr', 2), ('enter', 2), ('felt', 2), ('versions', 2), ('find', 2), ('decide', 2), ('radius', 2), ('private', 2), ('ok', 2), ('scam', 2), ('cause', 2), ('ask', 2), ('understand', 2), ('influenced', 2), ('better', 2), ('post', 2), ('test', 2), ('squad', 2), ('equations', 2), ('eredivisie', 2), ('rules', 2), ('deal', 2), ('match', 2), ('close', 2), ('silent', 2), ('anxiety', 2), ('important', 2), ('makes', 2), ('again', 2), ('influence', 2), ('such', 2), ('concerned', 2), ('well', 2), ('lb', 2), ('season', 2), ('thank', 2), ('seller', 2), ('yeah', 2), ('games', 2), ('dutch', 2), ('probably', 2), ('scratch', 2), ('plan', 2), ('work', 2), ('items', 2), ('months', 2), ('science', 2), ('honest', 2), ('hero', 2), ('left', 2), ('new', 2), ('roles', 2), ('giveaway', 2), ('sellers', 2), ('small', 2), ('right', 2), ('paid', 2), ('door', 2), ('third-tier', 2), ('bikes', 2), ('completely', 2), ('reasonable', 2), ('smite', 2), ('damage', 2), ('paper', 2), ('per', 2), ('gem', 2), ('true', 2), ('comfortable', 2), ('prepare', 2), ('constable', 2), ('less', 2), ('second-tier', 2), ('enemy', 2), ('already', 2), ('arsenal', 2), ('usc', 2), ('though', 2), ('nations', 2), ('include', 2), ('building', 2), ('player', 2), ('culturally', 2), ('discussion', 2), ('ability', 2), ('blind', 2), ('found', 2), ('dishonest', 2), ('working', 2), ('films', 2), ('long', 2), ('3', 2), ('being', 2), ('riedewald', 2), ('need', 2), ('nigel', 2), ('section', 2), ('back', 2), ('webb', 2), ('making', 2), ('vs', 2), ('remember', 2), ('least', 2), ('midfielder', 2), ('license', 2), ('end', 2), ('lot', 2), ('luck', 2), ('go', 2), ('fewer', 2), (\"'d\", 2), ('available', 2), ('draw', 2), ('himself', 2), ('word', 2), ('adult', 2), ('specific', 2), ('expierenced', 2), ('supplements', 2), ('single', 2), ('gods', 2), ('dumb', 2), ('300', 2), ('$', 2), ('honestly', 1), ('slight', 1), ('iniesta', 1), ('office', 1), ('tenured', 1), ('potential', 1), ('15', 1), ('accessory', 1), ('please', 1), ('common', 1), ('form', 1), ('yards', 1), ('apartment', 1), ('existing', 1), ('60', 1), ('suspiciously', 1), ('yamcha', 1), ('fit', 1), ('recovere', 1), ('layout', 1), ('ended', 1), ('midfield', 1), ('entry', 1), ('based', 1), ('mother', 1), ('week', 1), ('influencing', 1), ('stat', 1), ('except', 1), ('cubes', 1), ('goddamn', 1), ('boost', 1), ('opportunities', 1), ('inch', 1), ('currently', 1), ('website', 1), ('pools', 1), ('removal', 1), ('value', 1), ('vs.', 1), ('else', 1), ('often', 1), ('political', 1), ('caps', 1), ('idgaf', 1), ('possible', 1), ('//civilization.wikia.com/wiki/tourism_', 1), ('finally', 1), ('felons', 1), ('sudden', 1), ('movie', 1), ('hours', 1), ('gon', 1), ('italian', 1), ('places', 1), ('mean', 1), ('proposal', 1), ('questions', 1), ('lumped', 1), ('replaced', 1), ('beyond', 1), ('constant', 1), ('fun', 1), ('teammates', 1), ('teacher', 1), ('illegal', 1), ('hierarchy', 1), ('both', 1), ('terminate', 1), ('odd', 1), ('muscle', 1), ('rb/wr', 1), ('decisions', 1), ('reliably', 1), ('status', 1), ('signature', 1), ('bonuses', 1), ('netherlands', 1), ('road', 1), ('those', 1), ('free', 1), ('electing', 1), ('qualify', 1), ('spree', 1), ('damn', 1), ('works', 1), ('europe', 1), ('lifestyle', 1), ('seconds', 1), ('imposing', 1), ('somewhat', 1), ('once', 1), ('dunno', 1), ('beaten', 1), ('cube', 1), ('towards', 1), ('ptsd', 1), ('toss', 1), ('comes', 1), ('trial', 1), ('attacking', 1), ('bar', 1), ('dominate', 1), ('things', 1), ('baltimore', 1), ('control', 1), ('yet', 1), ('//www.espnfc.co.uk/club/internazionale/110/blog/post/2476665/mauro-icardi-of-inter-milan-deserving-of-scoring-honour', 1), ('hold', 1), ('na', 1), ('...', 1), ('imagine', 1), ('//thefreethoughtproject.com/indiana-law-force-cops-overturned-mans-battery-officer-charge/', 1), ('//www.flayrah.com/4117/retrospective-illustrated-chronology-furry-fandom-1966-1996', 1), ('td', 1), ('-', 1), ('necessary', 1), ('fans', 1), ('wildly', 1), ('started', 1), ('midfielders', 1), ('busquets', 1), ('cities', 1), ('cupello', 1), ('exigent', 1), ('should', 1), ('yorick', 1), ('1', 1), ('tutorial', 1), ('horrifying', 1), ('promise', 1), ('northeast/europe', 1), ('rakitic', 1), ('attempts', 1), ('stay', 1), ('difficult', 1), ('premade', 1), ('boosted', 1), ('wire', 1), ('clinton', 1), ('key', 1), ('read', 1), ('thorough', 1), ('consistent', 1), ('rapes', 1), ('reach', 1), ('dad', 1), ('drug', 1), ('furry', 1), ('younger', 1), ('full', 1), ('electric', 1), ('means', 1), ('guess', 1), ('nervousness', 1), ('nullification', 1), ('enforce', 1), ('agree', 1), ('serie', 1), ('output', 1), ('low', 1), ('plays', 1), ('resolution', 1), ('//www.hoodedutilitarian.com/2015/01/you-cant-get-inside/', 1), ('constitutionally', 1), ('bush', 1), ('real', 1), ('write', 1), ('campaign', 1), ('speak', 1), ('person', 1), ('pogba', 1), ('conquest', 1), ('cook', 1), ('lower', 1), ('candidates', 1), ('diagram', 1), ('kicked', 1), ('happen', 1), ('easier', 1), ('turns', 1), ('tower', 1), ('event', 1), ('today', 1), ('characters', 1), ('reward', 1), ('belief', 1), ('helped', 1), ('consent', 1), ('boat', 1), ('etc', 1), ('operate', 1), ('awesome', 1), ('lunch', 1), ('content', 1), ('problem', 1), ('attract', 1), ('webb’s', 1), ('skills', 1), ('lol', 1), ('im', 1), ('cultural', 1), ('far', 1), ('referred', 1), ('incredible', 1), ('look', 1), ('experiment', 1), ('matches', 1), ('minimal', 1), ('barça', 1), ('implement', 1), ('station', 1), ('standard', 1), ('bought', 1), ('junk', 1), ('rule', 1), ('designed', 1), ('wasted', 1), ('resisted', 1), ('outside', 1), ('immediately', 1), ('unexpierenced', 1), ('rush', 1), ('perversion', 1), ('substantial', 1), ('non-stop', 1), ('schnarch', 1), ('capturing', 1), ('foot', 1), ('fail', 1), ('couple', 1), ('heart', 1), ('gen', 1), ('hierarchies', 1), ('exploring', 1), ('worked', 1), ('possibility', 1), ('unpopular', 1), ('mostly', 1), ('rejiggering', 1), ('site', 1), ('pep', 1), ('dispute', 1), ('reports', 1), ('cl', 1), ('build', 1), ('pieters', 1), ('narrator', 1), ('granted', 1), ('leave', 1), ('general', 1), ('unfounded', 1), ('light', 1), ('big', 1), ('episodes', 1), ('prosecutors', 1), ('deaths', 1), ('simply', 1), ('nodded', 1), ('rights', 1), ('round', 1), ('thumb', 1), ('fandom', 1), ('looking', 1), ('midwest', 1), ('county', 1), ('absentee', 1), ('rely', 1), ('ongoing', 1), ('husband', 1), ('1960.', 1), ('dont', 1), ('hand', 1), ('former', 1), ('=', 1), ('rather', 1), ('singing', 1), ('drop', 1), ('outlet', 1), ('dq', 1), ('shen', 1), ('extend', 1), ('especially', 1), ('surveillance', 1), ('joined', 1), ('7', 1), ('heinous', 1), ('learn', 1), ('buying', 1), ('isnt', 1), ('victim', 1), ('unlawful', 1), ('v', 1), ('scoring', 1), ('//amzn.com/0060753641', 1), ('terrifying', 1), ('itself', 1), ('alert', 1), ('could', 1), ('removed', 1), ('heard', 1), ('champ', 1), ('**average', 1), ('consequence', 1), ('guns', 1), ('chem/physics', 1), ('understanding', 1), ('supporting', 1), ('needs', 1), ('deemed', 1), ('//www.ravesafer.com', 1), ('combined', 1), ('green', 1), ('maybe', 1), ('cell', 1), ('tossing', 1), ('non', 1), ('legal', 1), ('deserves', 1), ('scrolls', 1), ('enforcer', 1), ('x', 1), ('anti-gun', 1), ('interests', 1), ('around', 1), ('assumptions', 1), ('types', 1), ('am', 1), ('watched', 1), ('deserve', 1), ('thats', 1), ('elegant', 1), ('investigate', 1), ('might', 1), ('date', 1), ('bones', 1), ('//www.reddit.com/r/ps4/wiki/subreddit/rules/examples', 1), ('ahead', 1), ('bigbird', 1), ('4th', 1), ('imo', 1), ('ignorant', 1), ('separately', 1), ('won', 1), ('verratti', 1), ('creates', 1), ('benefits', 1), ('day', 1), ('ago', 1), ('splat/suction/burst', 1), ('toriyama', 1), ('gesture', 1), ('owner', 1), ('whichever', 1), ('ranking', 1), ('phone', 1), ('wiling', 1), ('period', 1), ('blowing', 1), ('theory', 1), ('/r/zen', 1), ('unique', 1), ('certain', 1), ('table', 1), ('admin', 1), ('effective', 1), ('send', 1), ('links', 1), ('o', 1), ('along', 1), ('tech', 1), ('informed', 1), ('recommend', 1), ('keep', 1), ('elect', 1), ('nics', 1), ('times', 1), ('david', 1), ('physically', 1), ('classes', 1), ('crap', 1), ('interesting', 1), ('force', 1), ('hope', 1), ('amount', 1), ('over', 1), ('harmless', 1), ('lanes', 1), ('**not', 1), ('words', 1), ('style', 1), ('become', 1), ('majority', 1), ('apartment.”', 1), ('saltspray', 1), ('upon', 1), ('promoted', 1), ('dismiss', 1), ('nah', 1), ('scenario', 1), ('thrown', 1), ('pointed', 1), ('weird', 1), ('*is*', 1), ('system', 1), ('southeast', 1), ('intimacy', 1), ('bigot', 1), ('buyer', 1), ('clip', 1), ('whoever', 1), ('noticed', 1), ('safe', 1), ('man', 1), ('normally', 1), ('line', 1), ('trigger', 1), ('sentence', 1), ('missing', 1), ('league-', 1), ('love', 1), ('suspicion', 1), ('yea', 1), ('ignores', 1), ('30', 1), ('subsequent', 1), ('spoiler', 1), ('voluntary', 1), ('scared', 1), ('shit', 1), ('hell', 1), ('hate', 1), ('dota', 1), ('applies', 1), ('whether', 1), ('largely', 1), ('defense', 1), ('weak', 1), ('latter', 1), ('skyrim', 1), ('centra', 1), ('criticisms', 1), ('laughable', 1), ('sight', 1), ('english', 1), ('*history*', 1), ('elder', 1), ('nation', 1), ('vastly', 1), ('league', 1), ('focuses', 1), ('12v', 1), ('marchisio', 1), ('unstoppable', 1), ('bomb', 1), ('refuse', 1), ('anyway', 1), ('clear', 1), ('barraging', 1), ('side', 1), ('italy', 1), ('exceptions', 1), ('saying', 1), ('mind', 1), ('everywhere', 1), ('molest', 1), ('**if', 1), ('term', 1), ('establish', 1), ('home', 1), ('sphere', 1), ('completion', 1), ('august', 1), ('deciding', 1), ('saves', 1), ('citizens', 1), ('pack', 1), ('enforceable**', 1), ('kinks', 1), ('plot', 1), ('0', 1), ('fight', 1), ('early', 1), ('whistling', 1), ('give', 1), ('rng', 1), ('piece', 1), ('**here**', 1), ('spot', 1), ('unfortunately', 1), ('besides', 1), ('concept', 1), ('higher', 1), ('nearly', 1), ('approaching', 1), ('predominantly', 1), ('wiki_vague_titles', 1), ('established', 1), ('rag', 1), (\"'\", 1), ('front', 1), ('wiring', 1), ('lt', 1), ('yac', 1), ('parents', 1), ('sanders', 1), ('know', 1), ('through', 1), ('catch', 1), ('robot', 1), ('pedophilia', 1), ('opening', 1), ('integral', 1), ('gps', 1), ('short', 1), ('create', 1), ('spies', 1), ('takes', 1), ('practice', 1), ('ridiculous', 1), ('guaranteed', 1), ('nope', 1), ('“constable', 1), ('allows', 1), ('2015', 1), ('killers', 1), ('grab', 1), ('suspense', 1), ('lobby', 1), ('harmed', 1), ('problems', 1), ('lang', 1), ('weapon', 1), ('stereotype', 1), ('gone', 1), ('captivity', 1), ('boys', 1), ('rework', 1), ('paraded', 1), ('us', 1), ('however', 1), ('rate', 1), ('getting', 1), ('angry', 1), ('slamming', 1), ('old', 1), (\"o'mac\", 1), ('accountable', 1), ('piccolo', 1), ('fault', 1), ('update', 1), ('add', 1), ('hitting', 1), (\"don't\", 1), ('**', 1), ('semifinals/finals', 1), ('dodge', 1), ('receiving', 1), ('agreed', 1), ('examples', 1), ('treated', 1), ('source', 1), ('8', 1), ('incentive', 1), ('gave', 1), ('uni', 1), ('before/after', 1), ('lorre', 1), ('woman', 1), ('faith', 1), ('circumstances', 1), ('cards', 1), ('environment', 1), ('tell', 1), ('becomes', 1), ('identity', 1), ('rolls', 1), ('politics', 1), ('increases', 1), ('tool', 1), (\"'ve\", 1), ('technical', 1), ('tea', 1), ('die', 1), ('type', 1), ('dialogue', 1), ('hamstrung', 1), ('board', 1), ('paying', 1), ('case', 1), ('otherwise', 1), ('wrong', 1), ('balanced', 1), ('knowing', 1), ('lists', 1), ('physics', 1), ('highest', 1), ('relationships', 1), ('overly', 1), ('funny', 1), ('ca', 1), ('mating', 1), ('extremely', 1), ('vidal', 1), ('putting', 1), ('west', 1), ('reason', 1), ('yardage', 1), ('lane', 1), ('whenever', 1), ('rec/rush/pass', 1), ('lead', 1), ('#', 1), ('fact', 1), ('young', 1), ('belonging', 1), ('counterplay', 1), ('child', 1), ('speedlings', 1), ('card', 1), ('family', 1), ('risk', 1), ('seems', 1), ('playstyle', 1), ('second', 1), ('ever', 1), ('anthropomorphic', 1), ('reserving', 1), ('fritz', 1), ('op', 1), ('chance', 1), ('variation', 1), ('*m*', 1), ('pushed', 1), ('playing', 1), ('lesnar', 1), ('protected', 1), ('importantly', 1), ('sometimes', 1), ('detrimental', 1), ('punishment', 1), ('lack', 1), ('bay', 1), ('storyline', 1), ('shattuck', 1), ('genius', 1), ('appreciation', 1), ('bit', 1), ('disturbing', 1), ('capture', 1), ('entered', 1), ('//amzn.com/0825306299', 1), ('coordinated', 1), ('6', 1), ('judge', 1), ('adds', 1), ('devices', 1), ('got', 1), ('ones', 1), ('physical', 1), ('earlier', 1), ('future', 1), ('janmaat', 1), ('army', 1), ('multiple', 1), ('michael', 1), ('swooping', 1), ('character', 1), ('due', 1), ('dishes', 1), ('escapes', 1), ('fashion', 1), ('fairing', 1), ('flesh', 1), ('acceptable', 1), ('peter', 1), ('appeals', 1), ('director', 1), ('bc', 1), ('unneeded', 1), ('hijacking', 1), ('google', 1), ('advertised', 1), ('misunderstood', 1), ('a+', 1), ('bellies', 1), ('able', 1), ('espionage', 1), ('aesthetic', 1), ('wrote', 1), ('solid', 1), ('pleasant', 1), ('buddhist-type', 1), ('something', 1), ('fill', 1), ('rape', 1), ('length**', 1), ('staying', 1), ('kongolo', 1), ('badly', 1), ('rig', 1), ('pointless', 1), ('resistance', 1), ('qbs', 1), ('truth', 1), ('installing', 1), ('tenure', 1), ('reasoned', 1), ('civ5', 1), ('origin', 1), ('yourself', 1), ('wires', 1), ('https', 1), ('wc', 1), ('court', 1), ('1960', 1), ('removes', 1), ('pray', 1), ('stuff', 1), ('bullshit', 1), ('acknowledgements', 1), ('victory', 1), ('annoying', 1), ('lives', 1), ('allow', 1), ('excellent', 1), ('past', 1), ('must', 1), ('sub', 1), ('reform', 1), ('comedowns', 1), ('research', 1), ('ravesafer.com', 1), ('involvement', 1), ('efficiently', 1), ('obviously', 1), ('spend', 1)]\n"
     ]
    }
   ],
   "source": [
    "# Get the most common words and build index_to_word and word_to_index vectors\n",
    "vocab = word_freq.most_common(vocabulary_size-1)\n",
    "print(vocab)\n"
   ]
  },
  {
   "cell_type": "code",
   "execution_count": 18,
   "metadata": {
    "collapsed": false
   },
   "outputs": [
    {
     "name": "stdout",
     "output_type": "stream",
     "text": [
      "['SENTENCE_START', 'SENTENCE_END', '.', 'the', ',', 'to', 'a', 'i', 'and', 'it', 'in', \"n't\", 'that', 'is', 'you', 'of', \"'s\", 'for', 'do', 'not', 'with', 'have', 'be', 'they', 'like', ':', 'on', 'was', ')', 'but', 'as', 'my', '(', 'would', 'this', 'what', 'has', 'or', 'are', 'if', 'them', 'just', 'all', '?', 'an', 'people', 'no', 'so', 'at', 'your', 'who', \"''\", 'get', 'than', ';', 'more', 'out', 'why', '&', 'he', 'when', 'will', 'really', '``', 'which', 'other', 'had', 'gt', 'think', 'good', 'even', 'first', 'use', 'does', 'we', 'http', 'there', 'going', 'by', 'same', 'then', 'because', 'about', \"'m\", 'see', 'can', 'very', 'any', 'game', 'me', '!', 'before', 'been', 'their', 'check', 'say', 'one', 'also', 'into', 'having', 'most', 'gun', 'take', 'only', \"'re\", 'some', 'teams', 'team', 'players', 'make', 'points', 'put', 'bombs', 'enough', 'run', ']', 'last', 'reading', 'did', 'used', 'way', '[', 'here', 'lose', 'without', 'too', 'background', 'someone', 'mod', 'were', 'fucking', 'basically', 'never', \"'ll\", 'sound', 'few', 'his', 'her', 'point', 'anything', 'during', 'up', 'desire', 'wo', 'play', 'always', 'sell', 'city', 'zen', 'still', 'tete', 'mods', 'charge', 'thing', 'after', 'convict', 'these', 'place', 'since', 'its', 'our', 'everyone', 'made', 'time', 'roughly', 'brock', 'question', 'felon', 'help', 'instead', 'each', 'different', 'best', 'every', 'strong', 'pl', 'him', 'mandatory', 'routes', 'own', 'where', 'done', 'shane', 'win', 'come', 'trade', 'down', 'title', 'anyone', 'much', 'said', 'from', 'great', 'top', 'played', 'house', 'driving', 'friends', 'bad', 'may', 'idea', 'prison', 'technically', 'super', 'figure', 'film', 'turn', 'against', 'cupello’s', 'she', 'jong', 'probable', 'kill', 'across', 'logic', 'ad', 'now', 'start', 'little', 'attention', 'pills', 'unequal', 'convince', 'years', '.2', 'de', 'want', 'vote', 'officer', 'remove', 'actually', 'son', 'how', 'song', 'thought', 'qb', 'year', 'stop', 'fine', 'require', 'titles', 'anita', 'ppr', 'enter', 'felt', 'versions', 'find', 'decide', 'radius', 'private', 'ok', 'scam', 'cause', 'ask', 'understand', 'influenced', 'better', 'post', 'test', 'squad', 'equations', 'eredivisie', 'rules', 'deal', 'match', 'close', 'silent', 'anxiety', 'important', 'makes', 'again', 'influence', 'such', 'concerned', 'well', 'lb', 'season', 'thank', 'seller', 'yeah', 'games', 'dutch', 'probably', 'scratch', 'plan', 'work', 'items', 'months', 'science', 'honest', 'hero', 'left', 'new', 'roles', 'giveaway', 'sellers', 'small', 'right', 'paid', 'door', 'third-tier', 'bikes', 'completely', 'reasonable', 'smite', 'damage', 'paper', 'per', 'gem', 'true', 'comfortable', 'prepare', 'constable', 'less', 'second-tier', 'enemy', 'already', 'arsenal', 'usc', 'though', 'nations', 'include', 'building', 'player', 'culturally', 'discussion', 'ability', 'blind', 'found', 'dishonest', 'working', 'films', 'long', '3', 'being', 'riedewald', 'need', 'nigel', 'section', 'back', 'webb', 'making', 'vs', 'remember', 'least', 'midfielder', 'license', 'end', 'lot', 'luck', 'go', 'fewer', \"'d\", 'available', 'draw', 'himself', 'word', 'adult', 'specific', 'expierenced', 'supplements', 'single', 'gods', 'dumb', '300', '$', 'honestly', 'slight', 'iniesta', 'office', 'tenured', 'potential', '15', 'accessory', 'please', 'common', 'form', 'yards', 'apartment', 'existing', '60', 'suspiciously', 'yamcha', 'fit', 'recovere', 'layout', 'ended', 'midfield', 'entry', 'based', 'mother', 'week', 'influencing', 'stat', 'except', 'cubes', 'goddamn', 'boost', 'opportunities', 'inch', 'currently', 'website', 'pools', 'removal', 'value', 'vs.', 'else', 'often', 'political', 'caps', 'idgaf', 'possible', '//civilization.wikia.com/wiki/tourism_', 'finally', 'felons', 'sudden', 'movie', 'hours', 'gon', 'italian', 'places', 'mean', 'proposal', 'questions', 'lumped', 'replaced', 'beyond', 'constant', 'fun', 'teammates', 'teacher', 'illegal', 'hierarchy', 'both', 'terminate', 'odd', 'muscle', 'rb/wr', 'decisions', 'reliably', 'status', 'signature', 'bonuses', 'netherlands', 'road', 'those', 'free', 'electing', 'qualify', 'spree', 'damn', 'works', 'europe', 'lifestyle', 'seconds', 'imposing', 'somewhat', 'once', 'dunno', 'beaten', 'cube', 'towards', 'ptsd', 'toss', 'comes', 'trial', 'attacking', 'bar', 'dominate', 'things', 'baltimore', 'control', 'yet', '//www.espnfc.co.uk/club/internazionale/110/blog/post/2476665/mauro-icardi-of-inter-milan-deserving-of-scoring-honour', 'hold', 'na', '...', 'imagine', '//thefreethoughtproject.com/indiana-law-force-cops-overturned-mans-battery-officer-charge/', '//www.flayrah.com/4117/retrospective-illustrated-chronology-furry-fandom-1966-1996', 'td', '-', 'necessary', 'fans', 'wildly', 'started', 'midfielders', 'busquets', 'cities', 'cupello', 'exigent', 'should', 'yorick', '1', 'tutorial', 'horrifying', 'promise', 'northeast/europe', 'rakitic', 'attempts', 'stay', 'difficult', 'premade', 'boosted', 'wire', 'clinton', 'key', 'read', 'thorough', 'consistent', 'rapes', 'reach', 'dad', 'drug', 'furry', 'younger', 'full', 'electric', 'means', 'guess', 'nervousness', 'nullification', 'enforce', 'agree', 'serie', 'output', 'low', 'plays', 'resolution', '//www.hoodedutilitarian.com/2015/01/you-cant-get-inside/', 'constitutionally', 'bush', 'real', 'write', 'campaign', 'speak', 'person', 'pogba', 'conquest', 'cook', 'lower', 'candidates', 'diagram', 'kicked', 'happen', 'easier', 'turns', 'tower', 'event', 'today', 'characters', 'reward', 'belief', 'helped', 'consent', 'boat', 'etc', 'operate', 'awesome', 'lunch', 'content', 'problem', 'attract', 'webb’s', 'skills', 'lol', 'im', 'cultural', 'far', 'referred', 'incredible', 'look', 'experiment', 'matches', 'minimal', 'barça', 'implement', 'station', 'standard', 'bought', 'junk', 'rule', 'designed', 'wasted', 'resisted', 'outside', 'immediately', 'unexpierenced', 'rush', 'perversion', 'substantial', 'non-stop', 'schnarch', 'capturing', 'foot', 'fail', 'couple', 'heart', 'gen', 'hierarchies', 'exploring', 'worked', 'possibility', 'unpopular', 'mostly', 'rejiggering', 'site', 'pep', 'dispute', 'reports', 'cl', 'build', 'pieters', 'narrator', 'granted', 'leave', 'general', 'unfounded', 'light', 'big', 'episodes', 'prosecutors', 'deaths', 'simply', 'nodded', 'rights', 'round', 'thumb', 'fandom', 'looking', 'midwest', 'county', 'absentee', 'rely', 'ongoing', 'husband', '1960.', 'dont', 'hand', 'former', '=', 'rather', 'singing', 'drop', 'outlet', 'dq', 'shen', 'extend', 'especially', 'surveillance', 'joined', '7', 'heinous', 'learn', 'buying', 'isnt', 'victim', 'unlawful', 'v', 'scoring', '//amzn.com/0060753641', 'terrifying', 'itself', 'alert', 'could', 'removed', 'heard', 'champ', '**average', 'consequence', 'guns', 'chem/physics', 'understanding', 'supporting', 'needs', 'deemed', '//www.ravesafer.com', 'combined', 'green', 'maybe', 'cell', 'tossing', 'non', 'legal', 'deserves', 'scrolls', 'enforcer', 'x', 'anti-gun', 'interests', 'around', 'assumptions', 'types', 'am', 'watched', 'deserve', 'thats', 'elegant', 'investigate', 'might', 'date', 'bones', '//www.reddit.com/r/ps4/wiki/subreddit/rules/examples', 'ahead', 'bigbird', '4th', 'imo', 'ignorant', 'separately', 'won', 'verratti', 'creates', 'benefits', 'day', 'ago', 'splat/suction/burst', 'toriyama', 'gesture', 'owner', 'whichever', 'ranking', 'phone', 'wiling', 'period', 'blowing', 'theory', '/r/zen', 'unique', 'certain', 'table', 'admin', 'effective', 'send', 'links', 'o', 'along', 'tech', 'informed', 'recommend', 'keep', 'elect', 'nics', 'times', 'david', 'physically', 'classes', 'crap', 'interesting', 'force', 'hope', 'amount', 'over', 'harmless', 'lanes', '**not', 'words', 'style', 'become', 'majority', 'apartment.”', 'saltspray', 'upon', 'promoted', 'dismiss', 'nah', 'scenario', 'thrown', 'pointed', 'weird', '*is*', 'system', 'southeast', 'intimacy', 'bigot', 'buyer', 'clip', 'whoever', 'noticed', 'safe', 'man', 'normally', 'line', 'trigger', 'sentence', 'missing', 'league-', 'love', 'suspicion', 'yea', 'ignores', '30', 'subsequent', 'spoiler', 'voluntary', 'scared', 'shit', 'hell', 'hate', 'dota', 'applies', 'whether', 'largely', 'defense', 'weak', 'latter', 'skyrim', 'centra', 'criticisms', 'laughable', 'sight', 'english', '*history*', 'elder', 'nation', 'vastly', 'league', 'focuses', '12v', 'marchisio', 'unstoppable', 'bomb', 'refuse', 'anyway', 'clear', 'barraging', 'side', 'italy', 'exceptions', 'saying', 'mind', 'everywhere', 'molest', '**if', 'term', 'establish', 'home', 'sphere', 'completion', 'august', 'deciding', 'saves', 'citizens', 'pack', 'enforceable**', 'kinks', 'plot', '0', 'fight', 'early', 'whistling', 'give', 'rng', 'piece', '**here**', 'spot', 'unfortunately', 'besides', 'concept', 'higher', 'nearly', 'approaching', 'predominantly', 'wiki_vague_titles', 'established', 'rag', \"'\", 'front', 'wiring', 'lt', 'yac', 'parents', 'sanders', 'know', 'through', 'catch', 'robot', 'pedophilia', 'opening', 'integral', 'gps', 'short', 'create', 'spies', 'takes', 'practice', 'ridiculous', 'guaranteed', 'nope', '“constable', 'allows', '2015', 'killers', 'grab', 'suspense', 'lobby', 'harmed', 'problems', 'lang', 'weapon', 'stereotype', 'gone', 'captivity', 'boys', 'rework', 'paraded', 'us', 'however', 'rate', 'getting', 'angry', 'slamming', 'old', \"o'mac\", 'accountable', 'piccolo', 'fault', 'update', 'add', 'hitting', \"don't\", '**', 'semifinals/finals', 'dodge', 'receiving', 'agreed', 'examples', 'treated', 'source', '8', 'incentive', 'gave', 'uni', 'before/after', 'lorre', 'woman', 'faith', 'circumstances', 'cards', 'environment', 'tell', 'becomes', 'identity', 'rolls', 'politics', 'increases', 'tool', \"'ve\", 'technical', 'tea', 'die', 'type', 'dialogue', 'hamstrung', 'board', 'paying', 'case', 'otherwise', 'wrong', 'balanced', 'knowing', 'lists', 'physics', 'highest', 'relationships', 'overly', 'funny', 'ca', 'mating', 'extremely', 'vidal', 'putting', 'west', 'reason', 'yardage', 'lane', 'whenever', 'rec/rush/pass', 'lead', '#', 'fact', 'young', 'belonging', 'counterplay', 'child', 'speedlings', 'card', 'family', 'risk', 'seems', 'playstyle', 'second', 'ever', 'anthropomorphic', 'reserving', 'fritz', 'op', 'chance', 'variation', '*m*', 'pushed', 'playing', 'lesnar', 'protected', 'importantly', 'sometimes', 'detrimental', 'punishment', 'lack', 'bay', 'storyline', 'shattuck', 'genius', 'appreciation', 'bit', 'disturbing', 'capture', 'entered', '//amzn.com/0825306299', 'coordinated', '6', 'judge', 'adds', 'devices', 'got', 'ones', 'physical', 'earlier', 'future', 'janmaat', 'army', 'multiple', 'michael', 'swooping', 'character', 'due', 'dishes', 'escapes', 'fashion', 'fairing', 'flesh', 'acceptable', 'peter', 'appeals', 'director', 'bc', 'unneeded', 'hijacking', 'google', 'advertised', 'misunderstood', 'a+', 'bellies', 'able', 'espionage', 'aesthetic', 'wrote', 'solid', 'pleasant', 'buddhist-type', 'something', 'fill', 'rape', 'length**', 'staying', 'kongolo', 'badly', 'rig', 'pointless', 'resistance', 'qbs', 'truth', 'installing', 'tenure', 'reasoned', 'civ5', 'origin', 'yourself', 'wires', 'https', 'wc', 'court', '1960', 'removes', 'pray', 'stuff', 'bullshit', 'acknowledgements', 'victory', 'annoying', 'lives', 'allow', 'excellent', 'past', 'must', 'sub', 'reform', 'comedowns', 'research', 'ravesafer.com', 'involvement', 'efficiently', 'obviously', 'spend', 'UNKNOWN_TOKEN']\n"
     ]
    }
   ],
   "source": [
    "index_to_word = [x[0] for x in vocab]\n",
    "index_to_word.append(unknown_token)\n",
    "print(index_to_word)\n"
   ]
  },
  {
   "cell_type": "code",
   "execution_count": 19,
   "metadata": {
    "collapsed": false
   },
   "outputs": [
    {
     "name": "stdout",
     "output_type": "stream",
     "text": [
      "Using vocabulary size 8000.\n",
      "The least frequent word in our vocabulary is 'spend' and appeared 1 times.\n"
     ]
    }
   ],
   "source": [
    "word_to_index = dict([(w,i) for i,w in enumerate(index_to_word)])\n",
    "\n",
    "print(\"Using vocabulary size %d.\" % vocabulary_size)\n",
    "print(\"The least frequent word in our vocabulary is '%s' and appeared %d times.\" % (vocab[-1][0], vocab[-1][1]))"
   ]
  },
  {
   "cell_type": "code",
   "execution_count": 20,
   "metadata": {
    "collapsed": false
   },
   "outputs": [],
   "source": [
    "# Replace all words not in our vocabulary with the unknown token\n",
    "for i, sent in enumerate(tokenized_sentences):\n",
    "    tokenized_sentences[i] = [w if w in word_to_index else unknown_token for w in sent]"
   ]
  },
  {
   "cell_type": "code",
   "execution_count": 21,
   "metadata": {
    "collapsed": false
   },
   "outputs": [
    {
     "name": "stdout",
     "output_type": "stream",
     "text": [
      "\n",
      "Example sentence: 'SENTENCE_START standard besides 1 points for 15 yards receiving, .2 points per completion, 6 points per td thrown, and some bonuses for rec/rush/pass yardage. SENTENCE_END'\n",
      "\n",
      "Example sentence after Pre-processing: '['SENTENCE_START', 'standard', 'besides', '1', 'points', 'for', '15', 'yards', 'receiving', ',', '.2', 'points', 'per', 'completion', ',', '6', 'points', 'per', 'td', 'thrown', ',', 'and', 'some', 'bonuses', 'for', 'rec/rush/pass', 'yardage', '.', 'SENTENCE_END']'\n"
     ]
    }
   ],
   "source": [
    "print(\"\\nExample sentence: '%s'\" % sentences[2])\n",
    "print(\"\\nExample sentence after Pre-processing: '%s'\" % tokenized_sentences[2])"
   ]
  },
  {
   "cell_type": "code",
   "execution_count": 22,
   "metadata": {
    "collapsed": true
   },
   "outputs": [],
   "source": [
    "# Create the training data\n",
    "X_train = np.asarray([[word_to_index[w] for w in sent[:-1]] for sent in tokenized_sentences])\n",
    "y_train = np.asarray([[word_to_index[w] for w in sent[1:]] for sent in tokenized_sentences])"
   ]
  },
  {
   "cell_type": "code",
   "execution_count": 23,
   "metadata": {
    "collapsed": false
   },
   "outputs": [
    {
     "name": "stdout",
     "output_type": "stream",
     "text": [
      "x:\n",
      "SENTENCE_START what are n't you understanding about this ? !\n",
      "[0, 35, 38, 11, 14, 672, 82, 34, 43, 90]\n",
      "\n",
      "y:\n",
      "what are n't you understanding about this ? ! SENTENCE_END\n",
      "[35, 38, 11, 14, 672, 82, 34, 43, 90, 1]\n"
     ]
    }
   ],
   "source": [
    "# Print a training data example\n",
    "x_example, y_example = X_train[17], y_train[17]\n",
    "print(\"x:\\n%s\\n%s\" % (\" \".join([index_to_word[x] for x in x_example]), x_example))\n",
    "print(\"\\ny:\\n%s\\n%s\" % (\" \".join([index_to_word[x] for x in y_example]), y_example))"
   ]
  },
  {
   "cell_type": "code",
   "execution_count": 36,
   "metadata": {
    "collapsed": false
   },
   "outputs": [],
   "source": [
    "class RNNNumpy:\n",
    "    \n",
    "    def __init__(self, word_dimension, hidden_dimension=100, bptt_truncate=4):\n",
    "        # Assign instance variables\n",
    "        self.word_dimension = word_dimension\n",
    "        self.hidden_dimension = hidden_dimension\n",
    "        self.bptt_truncate = bptt_truncate\n",
    "        \n",
    "        # Randomly initialize the network parameters\n",
    "        self.U = np.random.uniform(-np.sqrt(1./word_dimension), np.sqrt(1./word_dimension), (hidden_dimension, word_dimension))\n",
    "        self.V = np.random.uniform(-np.sqrt(1./hidden_dimension), np.sqrt(1./hidden_dimension), (word_dimension, hidden_dimension))\n",
    "        self.W = np.random.uniform(-np.sqrt(1./hidden_dimension), np.sqrt(1./hidden_dimension), (hidden_dimension, hidden_dimension))"
   ]
  },
  {
   "cell_type": "markdown",
   "metadata": {},
   "source": [
    "The Softmax function turns scores (i.e. logits) into probabilities"
   ]
  },
  {
   "cell_type": "code",
   "execution_count": 40,
   "metadata": {
    "collapsed": true
   },
   "outputs": [],
   "source": [
    "def softmax(x):\n",
    "    xt = np.exp(x - np.max(x))\n",
    "    return xt / np.sum(xt)"
   ]
  },
  {
   "cell_type": "code",
   "execution_count": 41,
   "metadata": {
    "collapsed": true
   },
   "outputs": [],
   "source": [
    "def forward_propagation(self, x):\n",
    "    # The total number of time steps\n",
    "    T = len(x)\n",
    "    # During forward propagation we save all hidden states in s because need them later.\n",
    "    # We add one additional element for the initial hidden, which we set to 0\n",
    "    s = np.zeros((T + 1, self.hidden_dimension))\n",
    "    s[-1] = np.zeros(self.hidden_dimension)\n",
    "    # The outputs at each time step. Again, we save them for later.\n",
    "    o = np.zeros((T, self.word_dimension))\n",
    "    # For each time step...\n",
    "    for t in np.arange(T):\n",
    "        # Note that we are indxing U by x[t]. This is the same as multiplying U with a one-hot vector.\n",
    "        s[t] = np.tanh(self.U[:,x[t]] + self.W.dot(s[t-1]))\n",
    "        o[t] = softmax(self.V.dot(s[t]))\n",
    "    return [o, s]\n",
    "\n",
    "RNNNumpy.forward_propagation = forward_propagation"
   ]
  },
  {
   "cell_type": "code",
   "execution_count": 42,
   "metadata": {
    "collapsed": true
   },
   "outputs": [],
   "source": [
    "def predict(self, x):\n",
    "    # Perform forward propagation and return index of the highest score\n",
    "    o, s = self.forward_propagation(x)\n",
    "    return np.argmax(o, axis=1)\n",
    "\n",
    "RNNNumpy.predict = predict"
   ]
  },
  {
   "cell_type": "code",
   "execution_count": 43,
   "metadata": {
    "collapsed": false
   },
   "outputs": [
    {
     "name": "stdout",
     "output_type": "stream",
     "text": [
      "(45, 8000)\n",
      "[[ 0.00012408  0.0001244   0.00012603 ...,  0.00012515  0.00012488\n",
      "   0.00012508]\n",
      " [ 0.00012507  0.00012495  0.00012462 ...,  0.0001254   0.00012582\n",
      "   0.00012498]\n",
      " [ 0.00012439  0.00012546  0.00012446 ...,  0.00012418  0.00012388\n",
      "   0.0001246 ]\n",
      " ..., \n",
      " [ 0.00012394  0.00012576  0.00012485 ...,  0.00012523  0.00012572\n",
      "   0.00012481]\n",
      " [ 0.00012545  0.00012422  0.00012463 ...,  0.00012423  0.00012541\n",
      "   0.0001248 ]\n",
      " [ 0.00012605  0.00012626  0.00012592 ...,  0.00012452  0.00012556\n",
      "   0.00012546]]\n"
     ]
    }
   ],
   "source": [
    "# Initialize the random generator\n",
    "np.random.seed(10)\n",
    "\n",
    "model = RNNNumpy(vocabulary_size)\n",
    "o, s = model.forward_propagation(X_train[10])\n",
    "print(o.shape)\n",
    "print(o)"
   ]
  },
  {
   "cell_type": "code",
   "execution_count": 46,
   "metadata": {
    "collapsed": false
   },
   "outputs": [
    {
     "name": "stdout",
     "output_type": "stream",
     "text": [
      "(45,)\n",
      "[1284 4281 5639 2269 6629 6601 3908 2321 5354 3251  911 4027 4048 5898 2937\n",
      " 2761 3496 7316 2175 1598 1835 4985 6982 4226 6821 6830 2191 2151  379 1131\n",
      " 2351  398 6715 2800 7262 6015 6799 4720 7229 2213 6176 4823 5314 5027    6]\n",
      "[0, 46, 96, 13, 77, 5, 22, 289, 113, 5, 114, 3, 94, 4, 84, 23, 104, 6, 167, 4, 8, 80, 42, 15, 6, 415, 586, 206, 329, 8, 95, 63, 764, 4, 14, 872, 35, 4, 122, 16, 49, 101, 822, 2, 51]\n"
     ]
    }
   ],
   "source": [
    "predictions = model.predict(X_train[10])\n",
    "print(predictions.shape)\n",
    "print(predictions)\n",
    "print(X_train[10])"
   ]
  },
  {
   "cell_type": "code",
   "execution_count": 47,
   "metadata": {
    "collapsed": true
   },
   "outputs": [],
   "source": [
    "def calculate_total_loss(self, x, y):\n",
    "    L = 0\n",
    "    # For each sentence...\n",
    "    for i in np.arange(len(y)):\n",
    "        o, s = self.forward_propagation(x[i])\n",
    "        # We only care about our prediction of the \"correct\" words\n",
    "        correct_word_predictions = o[np.arange(len(y[i])), y[i]]\n",
    "        # Add to the loss based on how off we were\n",
    "        L += -1 * np.sum(np.log(correct_word_predictions))\n",
    "    return L\n",
    "\n",
    "def calculate_loss(self, x, y):\n",
    "    # Divide the total loss by the number of training examples\n",
    "    N = np.sum((len(y_i) for y_i in y))\n",
    "    return self.calculate_total_loss(x,y)/N\n",
    "\n",
    "RNNNumpy.calculate_total_loss = calculate_total_loss\n",
    "RNNNumpy.calculate_loss = calculate_loss"
   ]
  },
  {
   "cell_type": "code",
   "execution_count": 48,
   "metadata": {
    "collapsed": false
   },
   "outputs": [
    {
     "name": "stdout",
     "output_type": "stream",
     "text": [
      "Expected Loss for random predictions: 8.987197\n",
      "Actual loss: 8.987223\n"
     ]
    }
   ],
   "source": [
    "# Limit to 1000 examples to save time\n",
    "print(\"Expected Loss for random predictions: %f\" % np.log(vocabulary_size))\n",
    "print(\"Actual loss: %f\" % model.calculate_loss(X_train[:1000], y_train[:1000]))"
   ]
  },
  {
   "cell_type": "code",
   "execution_count": null,
   "metadata": {
    "collapsed": true
   },
   "outputs": [],
   "source": []
  }
 ],
 "metadata": {
  "anaconda-cloud": {},
  "kernelspec": {
   "display_name": "Python [Root]",
   "language": "python",
   "name": "Python [Root]"
  },
  "language_info": {
   "codemirror_mode": {
    "name": "ipython",
    "version": 3
   },
   "file_extension": ".py",
   "mimetype": "text/x-python",
   "name": "python",
   "nbconvert_exporter": "python",
   "pygments_lexer": "ipython3",
   "version": "3.5.2"
  }
 },
 "nbformat": 4,
 "nbformat_minor": 0
}
