{
 "cells": [
  {
   "cell_type": "markdown",
   "metadata": {},
   "source": [
    "## Implementing a RNN\n",
    "\n",
    "Source: http://www.wildml.com/2015/09/recurrent-neural-networks-tutorial-part-2-implementing-a-language-model-rnn-with-python-numpy-and-theano/"
   ]
  },
  {
   "cell_type": "code",
   "execution_count": 1,
   "metadata": {
    "collapsed": false
   },
   "outputs": [],
   "source": [
    "import csv\n",
    "import itertools\n",
    "import operator\n",
    "import numpy as np\n",
    "import nltk\n",
    "import sys\n",
    "from datetime import datetime\n",
    "from utils import *\n",
    "import os\n",
    "import gzip\n",
    "from six.moves.urllib.request import urlretrieve\n",
    "\n",
    "import matplotlib.pyplot as plt\n",
    "%matplotlib inline"
   ]
  },
  {
   "cell_type": "markdown",
   "metadata": {},
   "source": [
    "Export reddit comments from a [dataset available on Google's BigQuery](https://bigquery.cloud.google.com/table/fh-bigquery:reddit_comments.2015_08)."
   ]
  },
  {
   "cell_type": "code",
   "execution_count": 2,
   "metadata": {
    "collapsed": false
   },
   "outputs": [],
   "source": [
    "def download_file(url, filename, expected_size_in_bytes, force=False):\n",
    "  \"\"\"Download a file if not present, and make sure it's the right size.\"\"\"\n",
    "  if not os.path.exists(filename) or force == True:\n",
    "    filename, _ = urlretrieve(url + filename, filename)\n",
    "  statinfo = os.stat(filename)\n",
    "  if statinfo.st_size == expected_size_in_bytes:\n",
    "    print('Found and verified', filename)\n",
    "  else:\n",
    "    raise Exception('Failed to verify {0}. Expected {1}B but found {2}B!'.format(filename, expected_size_in_bytes, statinfo.st_size))\n",
    "  return filename"
   ]
  },
  {
   "cell_type": "code",
   "execution_count": 3,
   "metadata": {
    "collapsed": false
   },
   "outputs": [
    {
     "name": "stdout",
     "output_type": "stream",
     "text": [
      "Found and verified reddit-comments-2015-08.data.gz\n"
     ]
    }
   ],
   "source": [
    "dataset_compressed_filename = download_file('https://github.com/SebastienBoisard/DeepLearningTutorials/'+\n",
    "                                            'raw/master/Language_model_with_RNN/data/',\n",
    "                                            'reddit-comments-2015-08.data.gz', \n",
    "                                             3152770)"
   ]
  },
  {
   "cell_type": "code",
   "execution_count": 4,
   "metadata": {
    "collapsed": false
   },
   "outputs": [],
   "source": [
    "def decompress_file(compressed_filename):\n",
    "    # Split the gziped file name into a name and the extension\n",
    "    file_name, file_extension = os.path.splitext(compressed_filename)\n",
    "    \n",
    "    if file_extension != '.gz':\n",
    "        raise Exception('Can\\'t decompress file \\'', compressed_filename, '\\' because this is not a .gz file!')\n",
    "       \n",
    "    with gzip.open(compressed_filename, 'rb') as f:\n",
    "        file_content = f.read()    \n",
    "       \n",
    "        with open(file_name, 'wb') as outfile:\n",
    "            outfile.write(file_content)\n",
    "    \n",
    "    return file_name"
   ]
  },
  {
   "cell_type": "code",
   "execution_count": 5,
   "metadata": {
    "collapsed": false
   },
   "outputs": [],
   "source": [
    "dataset_filename = decompress_file(dataset_compressed_filename)"
   ]
  },
  {
   "cell_type": "code",
   "execution_count": 6,
   "metadata": {
    "collapsed": false
   },
   "outputs": [
    {
     "name": "stdout",
     "output_type": "stream",
     "text": [
      "Reading CSV data file: exemple.data\n",
      "Parsed 192 sentences.\n",
      "sentences= [\"SENTENCE_START i joined a new league this year and they have different scoring rules than i'm used to. SENTENCE_END\", \"SENTENCE_START it's a slight ppr league- .2 ppr. SENTENCE_END\", 'SENTENCE_START standard besides 1 points for 15 yards receiving, .2 points per completion, 6 points per td thrown, and some bonuses for rec/rush/pass yardage. SENTENCE_END', 'SENTENCE_START my question is, is it wildly clear that qb has the highest potential for points? SENTENCE_END', 'SENTENCE_START i put in the rules at a ranking site and noticed that top qbs had 300 points more than the top rb/wr. SENTENCE_END', 'SENTENCE_START would it be dumb not to grab a qb in the first round? SENTENCE_END', 'SENTENCE_START in your scenario, a person could just not run the mandatory background check on the buyer and still sell the gun to the felon. SENTENCE_END', \"SENTENCE_START there's no way to enforce it. SENTENCE_END\", \"SENTENCE_START an honest seller is going to not sell the gun to them when they see they're a felon on the background check. SENTENCE_END\", \"SENTENCE_START a dishonest seller isn't going to run the check in the first place. SENTENCE_END\", 'SENTENCE_START no one is going to be honest enough to run the check, see they\\'re a felon, and then all of a sudden immediately turn dishonest and say \"nah, you know what, here\\'s your gun anyway.\" SENTENCE_END', \"SENTENCE_START they wouldn't run the fucking check in the first place, genius. SENTENCE_END\", 'SENTENCE_START your bullshit proposal is **not enforceable**. SENTENCE_END', \"SENTENCE_START this is why people without \\n\\n&gt;here's an idea, why not make a background check system where it would be illegal to sell guns to felons? SENTENCE_END\", \"SENTENCE_START that doesn't convince you? SENTENCE_END\", 'SENTENCE_START idgaf. SENTENCE_END', 'SENTENCE_START we already fucking have that. SENTENCE_END', \"SENTENCE_START what aren't you understanding about this?! SENTENCE_END\", \"SENTENCE_START it's just currently not available to private sellers. SENTENCE_END\", \"SENTENCE_START i'd like to make it available, but there's no point in making it mandatory. SENTENCE_END\", \"SENTENCE_START &gt;you're just supporting it to make a gesture towards background check reform in bad faith. SENTENCE_END\", \"SENTENCE_START as a gun owner who has harmed no one and has constitutionally protected rights, i actually don't own the anti-gun side a damn thing. SENTENCE_END\", \"SENTENCE_START it's people like you that convince me to not give an inch at all. SENTENCE_END\", \"SENTENCE_START i'm wiling to extend nics to private sellers as voluntary. SENTENCE_END\", \"SENTENCE_START take it or leave it, because it isn't going to be made mandatory. SENTENCE_END\", 'SENTENCE_START not gonna happen. SENTENCE_END', 'SENTENCE_START period. SENTENCE_END', \"SENTENCE_START they don't get paid for how much time you spend building your army. SENTENCE_END\", 'SENTENCE_START they get paid when you gem it. SENTENCE_END', 'SENTENCE_START having a premade layout saves what, 30 seconds? SENTENCE_END', \"SENTENCE_START during that time they've made $0 and still have the ability to make $x if you decide to gem it.  SENTENCE_END\", 'SENTENCE_START i dunno, back before the august update in an a+ lobby for tower control in saltspray rig, i remember the enemy team barraging us with bombs in a suspiciously coordinated fashion. SENTENCE_END', 'SENTENCE_START and my teammates were also tossing bombs left and right. SENTENCE_END', 'SENTENCE_START non-stop splat/suction/burst bombs. SENTENCE_END', 'SENTENCE_START bombs, bombs fucking everywhere. SENTENCE_END', 'SENTENCE_START it was terrifying having to dodge one after the other. SENTENCE_END', 'SENTENCE_START it never ended, and some of them even had bomb rush to toss even more goddamn bombs. SENTENCE_END', 'SENTENCE_START i think i still have ptsd of that horrifying event. SENTENCE_END', 'SENTENCE_START that match really felt like a michael bay movie. SENTENCE_END', 'SENTENCE_START no, but toriyama sometimes would draw himself as a little robot. SENTENCE_END', 'SENTENCE_START shen was a funny character for a few episodes(hitting yamcha in the junk) before you find out his true identity. SENTENCE_END', 'SENTENCE_START then he has an awesome fight with piccolo. SENTENCE_END', 'SENTENCE_START implement some form of tenure for mods and require a majority vote to remove any tenured mod. SENTENCE_END', 'SENTENCE_START only allow mods to trigger a removal vote on mods lower than them in the hierarchy however. SENTENCE_END', \"SENTENCE_START this removes the possibility of a single mod (such as an absentee top mod) swooping in and blowing up the sub but doesn't create opportunities for hijacking. SENTENCE_END\", \"SENTENCE_START importantly, it also doesn't require rejiggering the existing mod hierarchies or ongoing admin involvement in dispute resolution. SENTENCE_END\", 'SENTENCE_START i hate reading shit like this because you sound like such a catch before or after you started working out, and your husband takes you for granted. SENTENCE_END', 'SENTENCE_START what i would do to be with someone like you. SENTENCE_END', \"SENTENCE_START i'm not going to tell you to stay or go but whichever you decide, just don't lose sight of how you deserve to be treated and don't put up with anything less. SENTENCE_END\", \"SENTENCE_START &gt;baltimore county prosecutors will speak to the victim's family before deciding whether to charge shattuck, reports the station. SENTENCE_END\", 'SENTENCE_START earlier the parents said: \\n\\n&gt;\"what she did to my son is heinous. SENTENCE_END', 'SENTENCE_START the fact that she paraded her pedophilia in front of her own son is even more disturbing,\" the mother said. SENTENCE_END', 'SENTENCE_START \"any adult who rapes a child deserves to be in prison. SENTENCE_END', 'SENTENCE_START please hold her accountable.\" SENTENCE_END', 'SENTENCE_START it seems like they probably will ask that they send her to prison. SENTENCE_END', 'SENTENCE_START i hope they do. SENTENCE_END', \"SENTENCE_START honestly that judge basically gave the green light to any adult woman to molest little boys free of consequence in the future and that's simply not acceptable. \\n SENTENCE_END\", 'SENTENCE_START i think you might be missing my point. SENTENCE_END', 'SENTENCE_START a gun is a tool which allows you to kill very efficiently. SENTENCE_END', \"SENTENCE_START not having those around means there's less chance for people to make dumb decisions which end up in deaths. SENTENCE_END\", \"SENTENCE_START i'm not concerned with spree killers or other people who plan to kill, i'm concerned with people who wouldn't otherwise put other's lives at risk when they get angry, but there's a gun at hand. SENTENCE_END\", 'SENTENCE_START the latter is vastly more common than the former. SENTENCE_END', 'SENTENCE_START thank you for the giveaway op! SENTENCE_END', 'SENTENCE_START i would like to enter for the elder scrolls v: skyrim. SENTENCE_END', \"SENTENCE_START i played it at my friends house but haven't been able to get it yet! SENTENCE_END\", 'SENTENCE_START i thank you again for this giveaway. SENTENCE_END', 'SENTENCE_START good luck everyone! SENTENCE_END', \"SENTENCE_START im dutch and have watched all netherlands games for the last few years, nigel de jong has been solid during the wc and before and i see no reason at all not to include him since we don't have any non attacking midfielders in our team other then anita (which i don't really rate) and blind (who we'll probably need as lb). SENTENCE_END\", \"SENTENCE_START tete hasn't even been that good in the eredivisie imo, so why put him ahead of a expierenced player in the dutch squad like janmaat is beyond me. SENTENCE_END\", \"SENTENCE_START we don't have a real lb in the squad, only blind and kongolo (who didn't play well in a weak eredivisie last season) so that's why i would include pieters. SENTENCE_END\", \"SENTENCE_START i'm not making assumptions here. SENTENCE_END\", \"SENTENCE_START i agree that our defense hasn't been that good, that's why i don't get why we don't use nigel de jong, that's why i wouldn't use young unexpierenced players like riedewald and tete. SENTENCE_END\", \"SENTENCE_START these matches are super important, we won't qualify if we don't win them, so if you want to experiment with other players i would always use more expierenced players and not players who played with each other before instead of new ones like tete, riedewald and anita.  SENTENCE_END\", \"SENTENCE_START don't\\n\\n\\njust take them before/after. SENTENCE_END\", 'SENTENCE_START i take prepare before going out and recovere on the come down and my rolls have always been pleasant and my comedowns minimal. SENTENCE_END', \"SENTENCE_START both can be found on [ravesafer.com](http://www.ravesafer.com)\\n\\n\\nif you really must take some in with you, the prepare pack only has 3 pills in it (all of the supplements are combined into these 3 pills), so it's far easier to get them into places than having all the supplements separately.\\n SENTENCE_END\", 'SENTENCE_START &gt; key word there is \"were\". SENTENCE_END', 'SENTENCE_START as i nodded to when i said \"yeah, back in 1960\". SENTENCE_END', 'SENTENCE_START which is what i referred to. SENTENCE_END', 'SENTENCE_START i pointed out the *history* of the use of nullification logic. SENTENCE_END', 'SENTENCE_START &gt;guess what? SENTENCE_END', \"SENTENCE_START this isn't 1960. it's 2015, \\n\\nand so what? SENTENCE_END\", \"SENTENCE_START so people don't have bad idea? SENTENCE_END\", \"SENTENCE_START a bigot won't use the same logic to refuse to convict? SENTENCE_END\", 'SENTENCE_START if it is ok to say \"i won\\'t convict on a drug charge\" it is ok to say \"i won\\'t convict on a rape charge\". SENTENCE_END', \"SENTENCE_START &gt;you're playing on a stereotype from nearly 60 years ago as if it were a true today. SENTENCE_END\", 'SENTENCE_START and you have completely misunderstood what i wrote and my point. SENTENCE_END', \"SENTENCE_START &gt; i'd really like to see if anyone has ever used it. SENTENCE_END\", \"SENTENCE_START [here's](http://thefreethoughtproject.com/indiana-law-force-cops-overturned-mans-battery-officer-charge/) a case where a man slamming his house's door against an officer's foot was deemed legal because the officer didn't have probable cause to investigate his house. SENTENCE_END\", 'SENTENCE_START &gt; but the appeals court reasoned that, “constable webb had entered cupello’s apartment without consent, probable cause, reasonable suspicion, or exigent circumstances. SENTENCE_END', 'SENTENCE_START because constable webb resisted cupello’s subsequent attempts to close the door, cupello had a reasonable belief that force was necessary to terminate constable webb’s unlawful entry into his apartment.” SENTENCE_END', \"SENTENCE_START shane o'mac vs brock lesnar \\n\\nno dq\\n\\nobviously shane would have to be younger and this would be first run  brock when he wasn't being pushed as basically unstoppable\\n\\nbut i don't think anyone dishes out punishment better than brock\\n\\nand i don't think  anyone makes getting the crap kicked out of them look as good as shane o  SENTENCE_END\", \"SENTENCE_START i don't see anything like that on the wiring diagram. SENTENCE_END\", \"SENTENCE_START doesn't mean its not there but i never heard of it. SENTENCE_END\", 'SENTENCE_START the first gen bikes have and accessory wire in the fairing that can be used for low draw devices like a cell phone or gps. SENTENCE_END', \"SENTENCE_START installing a 12v outlet isn't very difficult. SENTENCE_END\", 'SENTENCE_START are you used to working on bikes or with electric wires at all?  SENTENCE_END', 'SENTENCE_START i think *m* is one of the most interesting early sound films. SENTENCE_END', 'SENTENCE_START fritz lang really made incredible use of sound, especially for a director who had predominantly done silent films at the time. SENTENCE_END', 'SENTENCE_START much of the film is completely silent which adds to the suspense for me and the anxiety that the film creates. SENTENCE_END', \"SENTENCE_START there's never really a wasted sound clip, every line of dialogue is extremely important. SENTENCE_END\", \"SENTENCE_START even peter lorre's whistling is integral to the plot. SENTENCE_END\", 'SENTENCE_START this is zen as it is found outside of /r/zen. SENTENCE_END', 'SENTENCE_START zen flesh, zen bones. SENTENCE_END', \"SENTENCE_START this place doesn't fill bellies the same way. SENTENCE_END\", 'SENTENCE_START and since you never stop by to have lunch your criticisms are again unfounded and somewhat laughable. SENTENCE_END', \"SENTENCE_START why don't you stop by for tea? SENTENCE_END\", \"SENTENCE_START ask questions to your heart's content. SENTENCE_END\", 'SENTENCE_START finally learn to cook! SENTENCE_END', 'SENTENCE_START my teacher is very fine. SENTENCE_END', \"SENTENCE_START the game is very good, but the style of it doesn't lead to paying attention to the storyline or the environment. SENTENCE_END\", \"SENTENCE_START which is a fault of the game as it doesn't reward you in game with anything for exploring, except small acknowledgements.  SENTENCE_END\", \"SENTENCE_START so would it technically be possible to write down all our physics equations on scratch paper during the tutorial and then use that same scratch paper (with the equations) during the chem/physics section since it's the first section? SENTENCE_END\", 'SENTENCE_START bc that would be super great... SENTENCE_END', 'SENTENCE_START i recommend [intimacy and desire](http://amzn.com/0825306299) by david schnarch. SENTENCE_END', 'SENTENCE_START an excellent read, and a very thorough discussion of the problem of unequal desire in long term relationships. SENTENCE_END', 'SENTENCE_START [mating in captivity](http://amzn.com/0060753641) is also very good, but focuses more on lack of desire rather than unequal desire. SENTENCE_END', 'SENTENCE_START no. SENTENCE_END', 'SENTENCE_START pl has more teams in europe than italy = pl teams can make more points than serie a teams. SENTENCE_END', 'SENTENCE_START pl will only lose its 4th cl spot if all english teams lose and all italian teams reach semifinals/finals. SENTENCE_END', 'SENTENCE_START so: no. SENTENCE_END', 'SENTENCE_START start reading about cubes. SENTENCE_END', \"SENTENCE_START do that for a few months, then you'll have a better idea. SENTENCE_END\", \"SENTENCE_START people don't just build them without knowing anything. SENTENCE_END\", 'SENTENCE_START we get into it after months of reading about cube building theory, reading lists, etc. SENTENCE_END', 'SENTENCE_START start along that road.  SENTENCE_END', 'SENTENCE_START yeah, no. SENTENCE_END', \"SENTENCE_START that's not the way politics work. SENTENCE_END\", \"SENTENCE_START you don't elect someone who has no plan and then pray that he'll figure out a way to get it done once he's in office. SENTENCE_END\", \"SENTENCE_START you're basically electing someone on a promise they may or may not keep, which i thought was what sanders' campaign was against. SENTENCE_END\", 'SENTENCE_START at least candidates like clinton or bush have the political muscle to get what they say done.  SENTENCE_END', 'SENTENCE_START i think this is something that escapes a lot of people. SENTENCE_END', \"SENTENCE_START it's not about who was in the right or who was in the wrong, it comes down to everyone staying safe and going home in one piece at the end of the day. SENTENCE_END\", \"SENTENCE_START i wouldn't say pointless. SENTENCE_END\", 'SENTENCE_START it can help with all other victory types. SENTENCE_END', 'SENTENCE_START source: http://civilization.wikia.com/wiki/tourism_(civ5)\\n\\nscience from trade routes: cultural influence with a certain nation increases science output from trade routes established with them. SENTENCE_END', \"SENTENCE_START so, boost your research by opening trade routes with nations you're influencing culturally! SENTENCE_END\", 'SENTENCE_START espionage: your spies become more effective in nations influenced by you culturally. SENTENCE_END', 'SENTENCE_START they will take only one turn to establish surveillance in their cities. SENTENCE_END', 'SENTENCE_START higher influence status also makes them operate as if they had already been promoted. SENTENCE_END', 'SENTENCE_START conquest: when you capture a city belonging to an enemy influenced by you, resistance in that city will last in fewer turns. SENTENCE_END', 'SENTENCE_START also, the city will lose fewer citizens upon capturing. SENTENCE_END', 'SENTENCE_START love that song. SENTENCE_END', \"SENTENCE_START maybe it's just me being weird (spoiler alert: it is), but i always imagine the narrator in that song singing it to himself. SENTENCE_END\", 'SENTENCE_START or even, it\\'s a buddhist-type thing and the it\\'s the concept of \"you\" itself that\\'s bad and needs to die. SENTENCE_END', 'SENTENCE_START i like to think too much :) SENTENCE_END', 'SENTENCE_START for some people, it *is* a constant lifestyle. SENTENCE_END', 'SENTENCE_START some people have kinks that are informed by their interests in the fandom. SENTENCE_END', 'SENTENCE_START (\"perversion\" is a strong word that i don\\'t think applies to most of them, which may be odd, but are harmless.) SENTENCE_END', 'SENTENCE_START for most though, furry is largely about the appreciation of the anthropomorphic aesthetic. SENTENCE_END', \"SENTENCE_START here's a couple links. SENTENCE_END\", 'SENTENCE_START https://www.flayrah.com/4117/retrospective-illustrated-chronology-furry-fandom-1966-1996\\n\\n\\nhttp://www.hoodedutilitarian.com/2015/01/you-cant-get-inside/ SENTENCE_END', \"SENTENCE_START he's actually very fun to play as if you understand the game. SENTENCE_END\", \"SENTENCE_START he also has counterplay, but people like yourself are too ignorant to figure that out and instead just say he's badly designed just because you dont put any thought into it. SENTENCE_END\", \"SENTENCE_START truth is yorick is well balanced, he's just old and unpopular. SENTENCE_END\", \"SENTENCE_START thats why he's last on the rework table; because he isnt detrimental to the game and not enough people play this champ. SENTENCE_END\", \"SENTENCE_START the thing is that third-tier classes weren't really any different than the second-tier versions they replaced. SENTENCE_END\", 'SENTENCE_START they just hamstrung the second-tier versions a bit and boosted the stat caps, reserving things like signature skills or a second weapon type for third-tier instead. SENTENCE_END', 'SENTENCE_START the centra players agreed to this last season, and had no problems with it when it was played through. SENTENCE_END', 'SENTENCE_START it basically becomes midwest vs. northeast/europe for radius. SENTENCE_END', 'SENTENCE_START sphere is west vs southeast. SENTENCE_END', 'SENTENCE_START and origin is whoever can play on it best. SENTENCE_END', 'SENTENCE_START it works out. SENTENCE_END', 'SENTENCE_START and your usc team has beaten my usc team on radius in the past, so i think yac and bigbird will be fine, lol.  SENTENCE_END', \"SENTENCE_START yea, but if it does ridiculous amount of damage guaranteed, which it will, then, if you haven't won the game with that drop you will win with speedlings. SENTENCE_END\", \"SENTENCE_START it worked too reliably, there wasn't enough incentive to not do it. SENTENCE_END\", 'SENTENCE_START whenever i see what would normally be a good deal advertised to me, i just dismiss it as a scam. SENTENCE_END', 'SENTENCE_START in my mind at least, every single ad i see is a scam. SENTENCE_END', \"SENTENCE_START now, if i'm looking on google and i come across a website on my own with that same good deal, i'll be all over it. SENTENCE_END\", 'SENTENCE_START but if i come across it as an ad, nope. SENTENCE_END', \"SENTENCE_START i was in the same boat, i'm going into first year uni now and felt left out when most of my friends had their license. SENTENCE_END\", \"SENTENCE_START i remember i was scared as hell as the test date was approaching because i didn't want to fail and most of my friends got their license first trial too. SENTENCE_END\", 'SENTENCE_START what helped me was a lot of practice, i used to get my dad to take me driving for hours multiple times a week and get really comfortable driving. SENTENCE_END', 'SENTENCE_START so when i did my test, all my anxiety and nervousness was gone because i was so comfortable with driving at this point. SENTENCE_END', 'SENTENCE_START good  luck! SENTENCE_END', 'SENTENCE_START the 8 damage is great to help close out games or even to help remove the board. SENTENCE_END', 'SENTENCE_START tech cards just add unneeded variation, even though rag is an rng based card, its value is always consistent in any match up. SENTENCE_END', 'SENTENCE_START not often, i mostly go by what their fans say about him and reading stuff like this http://www.espnfc.co.uk/club/internazionale/110/blog/post/2476665/mauro-icardi-of-inter-milan-deserving-of-scoring-honour SENTENCE_END', 'SENTENCE_START verratti is a great enforcer. SENTENCE_END', \"SENTENCE_START vidal is enough of a player to dominate a midfield the way iniesta can't. SENTENCE_END\", \"SENTENCE_START what i am saying is that each and every team bar pep's barça had to rely on a strong physical midfielder to win. SENTENCE_END\", 'SENTENCE_START busquets, marchisio, pogba, rakitic are strong, they are not small, elegant technical players. SENTENCE_END', \"SENTENCE_START the big discussion was about arsenal - and arsenal don't have that physically imposing midfielder other teams do SENTENCE_END\", 'SENTENCE_START it\\'s why these \"roles\" that smite have are really fucking annoying when more unique gods enter the game. SENTENCE_END', 'SENTENCE_START dota technically has roles but everyone ignores them and plays each specific hero to the best of their ability, buying the items that work best for that hero and putting them in the lane that benefits them and their team the most. SENTENCE_END', 'SENTENCE_START smite  gods are lumped in the different pools where roughly the same items are bought, with roughly the same playstyle and are put in roughly the same lanes, with few exceptions. SENTENCE_END', 'SENTENCE_START unfortunately, your post has been removed due to having a very short title. SENTENCE_END', 'SENTENCE_START titles do not need to be overly long, only about an **average sentence in length** (7 words) but substantial enough that someone else can understand without having to see the full post. SENTENCE_END', 'SENTENCE_START a specific question will attract more attention than a general one. SENTENCE_END', 'SENTENCE_START rule of thumb: **if your question can fit in the title (&lt;300 characters), then it should be in the title. SENTENCE_END', 'SENTENCE_START ** [you can find examples of other titles not to use **here**. SENTENCE_END', 'SENTENCE_START ](http://www.reddit.com/r/ps4/wiki/subreddit/rules/examples#wiki_vague_titles)\\n\\n\\n SENTENCE_END']\n"
     ]
    }
   ],
   "source": [
    "vocabulary_size = 8000\n",
    "unknown_token = \"UNKNOWN_TOKEN\"\n",
    "sentence_start_token = \"SENTENCE_START\"\n",
    "sentence_end_token = \"SENTENCE_END\"\n",
    "\n",
    "\n",
    "# Read the data file, parse and tokenzie the senteances, and append SENTENCE_START and SENTENCE_END tokens for each sentence.\n",
    "def extract_sentences(data_filename):\n",
    "    print(\"Reading CSV data file:\", data_filename)\n",
    "    with open(data_filename, 'r', encoding='utf-8') as f:\n",
    "        # Read the data file as a CVS file\n",
    "        reader = csv.reader(f, skipinitialspace=True)\n",
    "\n",
    "        # Skip the first element of the data file (which is always \"body\")\n",
    "        reader.__next__()\n",
    "\n",
    "        # Split full comments into sentences\n",
    "        sentences = itertools.chain(*[nltk.sent_tokenize(x[0].lower()) for x in reader])\n",
    "\n",
    "        # Append SENTENCE_START and SENTENCE_END at the beginning and end of each sentence\n",
    "        sentences = [\"%s %s %s\" % (sentence_start_token, x, sentence_end_token) for x in sentences]\n",
    "\n",
    "        return sentences\n",
    "\n",
    "dataset_filename = \"exemple.data\"\n",
    "sentences = extract_sentences(dataset_filename)\n",
    "\n",
    "print(\"Parsed %d sentences.\" % (len(sentences)))\n",
    "print(\"sentences=\", sentences)\n"
   ]
  },
  {
   "cell_type": "code",
   "execution_count": null,
   "metadata": {
    "collapsed": true
   },
   "outputs": [],
   "source": []
  }
 ],
 "metadata": {
  "kernelspec": {
   "display_name": "Python [Root]",
   "language": "python",
   "name": "Python [Root]"
  },
  "language_info": {
   "codemirror_mode": {
    "name": "ipython",
    "version": 3
   },
   "file_extension": ".py",
   "mimetype": "text/x-python",
   "name": "python",
   "nbconvert_exporter": "python",
   "pygments_lexer": "ipython3",
   "version": "3.5.2"
  }
 },
 "nbformat": 4,
 "nbformat_minor": 0
}
